{
 "cells": [
  {
   "cell_type": "code",
   "execution_count": 2,
   "metadata": {},
   "outputs": [],
   "source": [
    "import pandas as pd\n",
    "\n",
    "df1=pd.read_excel('file:///Users/Sana/Desktop/DVdata/Divvy2018.xlsx')"
   ]
  },
  {
   "cell_type": "code",
   "execution_count": 3,
   "metadata": {},
   "outputs": [],
   "source": [
    "df1_a=pd.read_csv('file:///Users/Sana/Desktop/DVdata/2018/Divvy_Trips_2018_Q3.csv')\n",
    "df1_b=pd.read_csv('file:///Users/Sana/Desktop/DVdata/2018/Divvy_Trips_2018_Q4.csv')"
   ]
  },
  {
   "cell_type": "code",
   "execution_count": 4,
   "metadata": {},
   "outputs": [],
   "source": [
    "df_2018= pd.concat([df1,df1_a,df1_b], axis=0, ignore_index=True)"
   ]
  },
  {
   "cell_type": "code",
   "execution_count": 5,
   "metadata": {},
   "outputs": [
    {
     "name": "stdout",
     "output_type": "stream",
     "text": [
      "<class 'pandas.core.frame.DataFrame'>\n",
      "RangeIndex: 3204831 entries, 0 to 3204830\n",
      "Data columns (total 13 columns):\n",
      " #   Column             Dtype  \n",
      "---  ------             -----  \n",
      " 0   Table Names        object \n",
      " 1   trip_id            int64  \n",
      " 2   start_time         object \n",
      " 3   bikeid             int64  \n",
      " 4   end_time           object \n",
      " 5   tripduration       object \n",
      " 6   from_station_id    int64  \n",
      " 7   from_station_name  object \n",
      " 8   to_station_id      int64  \n",
      " 9   to_station_name    object \n",
      " 10  usertype           object \n",
      " 11  gender             object \n",
      " 12  birthyear          float64\n",
      "dtypes: float64(1), int64(4), object(8)\n",
      "memory usage: 317.9+ MB\n"
     ]
    }
   ],
   "source": [
    "df_2018.info()"
   ]
  },
  {
   "cell_type": "code",
   "execution_count": 6,
   "metadata": {},
   "outputs": [
    {
     "data": {
      "text/html": [
       "<div>\n",
       "<style scoped>\n",
       "    .dataframe tbody tr th:only-of-type {\n",
       "        vertical-align: middle;\n",
       "    }\n",
       "\n",
       "    .dataframe tbody tr th {\n",
       "        vertical-align: top;\n",
       "    }\n",
       "\n",
       "    .dataframe thead th {\n",
       "        text-align: right;\n",
       "    }\n",
       "</style>\n",
       "<table border=\"1\" class=\"dataframe\">\n",
       "  <thead>\n",
       "    <tr style=\"text-align: right;\">\n",
       "      <th></th>\n",
       "      <th>Table Names</th>\n",
       "      <th>trip_id</th>\n",
       "      <th>start_time</th>\n",
       "      <th>bikeid</th>\n",
       "      <th>end_time</th>\n",
       "      <th>tripduration</th>\n",
       "      <th>from_station_id</th>\n",
       "      <th>from_station_name</th>\n",
       "      <th>to_station_id</th>\n",
       "      <th>to_station_name</th>\n",
       "      <th>usertype</th>\n",
       "      <th>gender</th>\n",
       "      <th>birthyear</th>\n",
       "    </tr>\n",
       "  </thead>\n",
       "  <tbody>\n",
       "    <tr>\n",
       "      <th>0</th>\n",
       "      <td>Divvy_Trips_2018_Q1.csv</td>\n",
       "      <td>17618474</td>\n",
       "      <td>2018-01-23 08:28:40</td>\n",
       "      <td>217</td>\n",
       "      <td>2018-01-23 08:40:14</td>\n",
       "      <td>694</td>\n",
       "      <td>106</td>\n",
       "      <td>State St &amp; Pearson St</td>\n",
       "      <td>195</td>\n",
       "      <td>Columbus Dr &amp; Randolph St</td>\n",
       "      <td>Subscriber</td>\n",
       "      <td>Male</td>\n",
       "      <td>1989.0</td>\n",
       "    </tr>\n",
       "    <tr>\n",
       "      <th>1</th>\n",
       "      <td>Divvy_Trips_2018_Q1.csv</td>\n",
       "      <td>17618475</td>\n",
       "      <td>2018-01-23 08:28:40</td>\n",
       "      <td>3117</td>\n",
       "      <td>2018-01-23 08:37:13</td>\n",
       "      <td>513</td>\n",
       "      <td>73</td>\n",
       "      <td>Jefferson St &amp; Monroe St</td>\n",
       "      <td>43</td>\n",
       "      <td>Michigan Ave &amp; Washington St</td>\n",
       "      <td>Subscriber</td>\n",
       "      <td>Male</td>\n",
       "      <td>1981.0</td>\n",
       "    </tr>\n",
       "    <tr>\n",
       "      <th>2</th>\n",
       "      <td>Divvy_Trips_2018_Q1.csv</td>\n",
       "      <td>17618480</td>\n",
       "      <td>2018-01-23 08:29:01</td>\n",
       "      <td>6454</td>\n",
       "      <td>2018-01-23 08:33:20</td>\n",
       "      <td>259</td>\n",
       "      <td>247</td>\n",
       "      <td>Shore Dr &amp; 55th St</td>\n",
       "      <td>345</td>\n",
       "      <td>Lake Park Ave &amp; 56th St</td>\n",
       "      <td>Subscriber</td>\n",
       "      <td>Male</td>\n",
       "      <td>1951.0</td>\n",
       "    </tr>\n",
       "    <tr>\n",
       "      <th>3</th>\n",
       "      <td>Divvy_Trips_2018_Q1.csv</td>\n",
       "      <td>17618482</td>\n",
       "      <td>2018-01-23 08:29:07</td>\n",
       "      <td>5191</td>\n",
       "      <td>2018-01-23 08:36:49</td>\n",
       "      <td>462</td>\n",
       "      <td>53</td>\n",
       "      <td>Wells St &amp; Huron St</td>\n",
       "      <td>98</td>\n",
       "      <td>LaSalle St &amp; Washington St</td>\n",
       "      <td>Subscriber</td>\n",
       "      <td>Female</td>\n",
       "      <td>1989.0</td>\n",
       "    </tr>\n",
       "    <tr>\n",
       "      <th>4</th>\n",
       "      <td>Divvy_Trips_2018_Q1.csv</td>\n",
       "      <td>17618484</td>\n",
       "      <td>2018-01-23 08:29:20</td>\n",
       "      <td>6265</td>\n",
       "      <td>2018-01-23 08:43:40</td>\n",
       "      <td>860</td>\n",
       "      <td>175</td>\n",
       "      <td>Wells St &amp; Polk St</td>\n",
       "      <td>47</td>\n",
       "      <td>State St &amp; Kinzie St</td>\n",
       "      <td>Subscriber</td>\n",
       "      <td>Male</td>\n",
       "      <td>1977.0</td>\n",
       "    </tr>\n",
       "  </tbody>\n",
       "</table>\n",
       "</div>"
      ],
      "text/plain": [
       "               Table Names   trip_id           start_time  bikeid  \\\n",
       "0  Divvy_Trips_2018_Q1.csv  17618474  2018-01-23 08:28:40     217   \n",
       "1  Divvy_Trips_2018_Q1.csv  17618475  2018-01-23 08:28:40    3117   \n",
       "2  Divvy_Trips_2018_Q1.csv  17618480  2018-01-23 08:29:01    6454   \n",
       "3  Divvy_Trips_2018_Q1.csv  17618482  2018-01-23 08:29:07    5191   \n",
       "4  Divvy_Trips_2018_Q1.csv  17618484  2018-01-23 08:29:20    6265   \n",
       "\n",
       "              end_time tripduration  from_station_id  \\\n",
       "0  2018-01-23 08:40:14          694              106   \n",
       "1  2018-01-23 08:37:13          513               73   \n",
       "2  2018-01-23 08:33:20          259              247   \n",
       "3  2018-01-23 08:36:49          462               53   \n",
       "4  2018-01-23 08:43:40          860              175   \n",
       "\n",
       "          from_station_name  to_station_id               to_station_name  \\\n",
       "0     State St & Pearson St            195     Columbus Dr & Randolph St   \n",
       "1  Jefferson St & Monroe St             43  Michigan Ave & Washington St   \n",
       "2        Shore Dr & 55th St            345       Lake Park Ave & 56th St   \n",
       "3       Wells St & Huron St             98    LaSalle St & Washington St   \n",
       "4        Wells St & Polk St             47          State St & Kinzie St   \n",
       "\n",
       "     usertype  gender  birthyear  \n",
       "0  Subscriber    Male     1989.0  \n",
       "1  Subscriber    Male     1981.0  \n",
       "2  Subscriber    Male     1951.0  \n",
       "3  Subscriber  Female     1989.0  \n",
       "4  Subscriber    Male     1977.0  "
      ]
     },
     "execution_count": 6,
     "metadata": {},
     "output_type": "execute_result"
    }
   ],
   "source": [
    "df_2018.head()"
   ]
  },
  {
   "cell_type": "code",
   "execution_count": 7,
   "metadata": {},
   "outputs": [],
   "source": [
    "df2=pd.read_excel('file:///Users/Sana/Desktop/DVdata/2019divvy.xlsx')"
   ]
  },
  {
   "cell_type": "code",
   "execution_count": 8,
   "metadata": {},
   "outputs": [],
   "source": [
    "df2_a=pd.read_csv('file:///Users/Sana/Desktop/DVdata/2019/Divvy_Trips_2019_Q2.csv')\n",
    "df2_b=pd.read_csv('file:///Users/Sana/Desktop/DVdata/2019/Divvy_Trips_2019_Q4.csv')\n"
   ]
  },
  {
   "cell_type": "code",
   "execution_count": 9,
   "metadata": {},
   "outputs": [],
   "source": [
    "df_2019= pd.concat([df2,df2_a,df2_b], axis=0 ,ignore_index=True)"
   ]
  },
  {
   "cell_type": "code",
   "execution_count": 10,
   "metadata": {},
   "outputs": [
    {
     "name": "stdout",
     "output_type": "stream",
     "text": [
      "<class 'pandas.core.frame.DataFrame'>\n",
      "RangeIndex: 2801204 entries, 0 to 2801203\n",
      "Data columns (total 13 columns):\n",
      " #   Column             Dtype  \n",
      "---  ------             -----  \n",
      " 0   Table Names        object \n",
      " 1   trip_id            int64  \n",
      " 2   start_time         object \n",
      " 3   end_time           object \n",
      " 4   bikeid             int64  \n",
      " 5   tripduration       object \n",
      " 6   from_station_id    int64  \n",
      " 7   from_station_name  object \n",
      " 8   to_station_id      int64  \n",
      " 9   to_station_name    object \n",
      " 10  usertype           object \n",
      " 11  gender             object \n",
      " 12  birthyear          float64\n",
      "dtypes: float64(1), int64(4), object(8)\n",
      "memory usage: 277.8+ MB\n"
     ]
    }
   ],
   "source": [
    "df_2019.info()"
   ]
  },
  {
   "cell_type": "code",
   "execution_count": 9,
   "metadata": {},
   "outputs": [
    {
     "name": "stdout",
     "output_type": "stream",
     "text": [
      "<class 'pandas.core.frame.DataFrame'>\n",
      "RangeIndex: 3275470 entries, 0 to 3275469\n",
      "Data columns (total 14 columns):\n",
      " #   Column              Dtype  \n",
      "---  ------              -----  \n",
      " 0   Table Names         object \n",
      " 1   ride_id             object \n",
      " 2   rideable_type       object \n",
      " 3   started_at          object \n",
      " 4   ended_at            object \n",
      " 5   start_station_name  object \n",
      " 6   start_station_id    int64  \n",
      " 7   end_station_name    object \n",
      " 8   end_station_id      int64  \n",
      " 9   start_lat           float64\n",
      " 10  start_lng           float64\n",
      " 11  end_lat             float64\n",
      " 12  end_lng             float64\n",
      " 13  member_casual       object \n",
      "dtypes: float64(4), int64(2), object(8)\n",
      "memory usage: 349.9+ MB\n"
     ]
    }
   ],
   "source": [
    "df3=pd.read_csv('file:///Users/Sana/Desktop/DVdata/divvy_2020.csv')\n",
    "df3.info()"
   ]
  },
  {
   "cell_type": "code",
   "execution_count": 10,
   "metadata": {},
   "outputs": [],
   "source": [
    "df3.rename(columns = {'ride_id':'trip_id','started_at':'start_time','ended_at': 'end_time','start_station_name':'from_station_name','start_station_id':'from_station_id'}, inplace = True)"
   ]
  },
  {
   "cell_type": "code",
   "execution_count": 11,
   "metadata": {},
   "outputs": [],
   "source": [
    "df3.rename(columns = {'ride_id':'trip_id','started_at':'start_time','ended_at': 'end_time','start_station_name':'from_station_name','start_station_id':'from_station_id'}, inplace = True)"
   ]
  },
  {
   "cell_type": "code",
   "execution_count": 12,
   "metadata": {},
   "outputs": [
    {
     "name": "stdout",
     "output_type": "stream",
     "text": [
      "<class 'pandas.core.frame.DataFrame'>\n",
      "RangeIndex: 3275470 entries, 0 to 3275469\n",
      "Data columns (total 14 columns):\n",
      " #   Column             Dtype  \n",
      "---  ------             -----  \n",
      " 0   Table Names        object \n",
      " 1   trip_id            object \n",
      " 2   rideable_type      object \n",
      " 3   start_time         object \n",
      " 4   end_time           object \n",
      " 5   from_station_name  object \n",
      " 6   from_station_id    int64  \n",
      " 7   end_station_name   object \n",
      " 8   end_station_id     int64  \n",
      " 9   start_lat          float64\n",
      " 10  start_lng          float64\n",
      " 11  end_lat            float64\n",
      " 12  end_lng            float64\n",
      " 13  member_casual      object \n",
      "dtypes: float64(4), int64(2), object(8)\n",
      "memory usage: 349.9+ MB\n"
     ]
    }
   ],
   "source": [
    "df3.info()"
   ]
  },
  {
   "cell_type": "code",
   "execution_count": 13,
   "metadata": {},
   "outputs": [
    {
     "data": {
      "text/html": [
       "<div>\n",
       "<style scoped>\n",
       "    .dataframe tbody tr th:only-of-type {\n",
       "        vertical-align: middle;\n",
       "    }\n",
       "\n",
       "    .dataframe tbody tr th {\n",
       "        vertical-align: top;\n",
       "    }\n",
       "\n",
       "    .dataframe thead th {\n",
       "        text-align: right;\n",
       "    }\n",
       "</style>\n",
       "<table border=\"1\" class=\"dataframe\">\n",
       "  <thead>\n",
       "    <tr style=\"text-align: right;\">\n",
       "      <th></th>\n",
       "      <th>Table Names</th>\n",
       "      <th>trip_id</th>\n",
       "      <th>rideable_type</th>\n",
       "      <th>start_time</th>\n",
       "      <th>end_time</th>\n",
       "      <th>from_station_name</th>\n",
       "      <th>from_station_id</th>\n",
       "      <th>end_station_name</th>\n",
       "      <th>end_station_id</th>\n",
       "      <th>start_lat</th>\n",
       "      <th>start_lng</th>\n",
       "      <th>end_lat</th>\n",
       "      <th>end_lng</th>\n",
       "      <th>usertype</th>\n",
       "    </tr>\n",
       "  </thead>\n",
       "  <tbody>\n",
       "    <tr>\n",
       "      <th>0</th>\n",
       "      <td>202005-divvy-tripdata.csv</td>\n",
       "      <td>C6BC009DA3D2F9B2</td>\n",
       "      <td>docked_bike</td>\n",
       "      <td>5/7/2020 5:46:43 PM</td>\n",
       "      <td>5/7/2020 6:17:37 PM</td>\n",
       "      <td>Greenwood Ave &amp; 47th St</td>\n",
       "      <td>252</td>\n",
       "      <td>Greenwood Ave &amp; 47th St</td>\n",
       "      <td>252</td>\n",
       "      <td>41.80980</td>\n",
       "      <td>-87.599400</td>\n",
       "      <td>41.809800</td>\n",
       "      <td>-87.599400</td>\n",
       "      <td>casual</td>\n",
       "    </tr>\n",
       "    <tr>\n",
       "      <th>1</th>\n",
       "      <td>202005-divvy-tripdata.csv</td>\n",
       "      <td>0D608B93262EE4BB</td>\n",
       "      <td>docked_bike</td>\n",
       "      <td>5/5/2020 2:23:05 PM</td>\n",
       "      <td>5/5/2020 3:02:22 PM</td>\n",
       "      <td>Glenwood Ave &amp; Touhy Ave</td>\n",
       "      <td>525</td>\n",
       "      <td>Glenwood Ave &amp; Touhy Ave</td>\n",
       "      <td>525</td>\n",
       "      <td>42.01270</td>\n",
       "      <td>-87.666100</td>\n",
       "      <td>42.012700</td>\n",
       "      <td>-87.666100</td>\n",
       "      <td>casual</td>\n",
       "    </tr>\n",
       "    <tr>\n",
       "      <th>2</th>\n",
       "      <td>202005-divvy-tripdata.csv</td>\n",
       "      <td>02668AD35674B983</td>\n",
       "      <td>docked_bike</td>\n",
       "      <td>5/27/2020 10:03:52 AM</td>\n",
       "      <td>5/27/2020 10:16:49 AM</td>\n",
       "      <td>Franklin St &amp; Jackson Blvd</td>\n",
       "      <td>36</td>\n",
       "      <td>Wabash Ave &amp; Grand Ave</td>\n",
       "      <td>199</td>\n",
       "      <td>41.87770</td>\n",
       "      <td>-87.635300</td>\n",
       "      <td>41.891500</td>\n",
       "      <td>-87.626800</td>\n",
       "      <td>member</td>\n",
       "    </tr>\n",
       "    <tr>\n",
       "      <th>3</th>\n",
       "      <td>202005-divvy-tripdata.csv</td>\n",
       "      <td>7A50CCAF1EDDB28F</td>\n",
       "      <td>docked_bike</td>\n",
       "      <td>5/25/2020 10:47:11 AM</td>\n",
       "      <td>5/25/2020 11:05:40 AM</td>\n",
       "      <td>Clark St &amp; Wrightwood Ave</td>\n",
       "      <td>340</td>\n",
       "      <td>Clark St &amp; Leland Ave</td>\n",
       "      <td>326</td>\n",
       "      <td>41.92950</td>\n",
       "      <td>-87.643100</td>\n",
       "      <td>41.967100</td>\n",
       "      <td>-87.667400</td>\n",
       "      <td>casual</td>\n",
       "    </tr>\n",
       "    <tr>\n",
       "      <th>4</th>\n",
       "      <td>202005-divvy-tripdata.csv</td>\n",
       "      <td>2FFCDFDB91FE9A52</td>\n",
       "      <td>docked_bike</td>\n",
       "      <td>5/2/2020 2:11:03 PM</td>\n",
       "      <td>5/2/2020 3:48:21 PM</td>\n",
       "      <td>Kedzie Ave &amp; Milwaukee Ave</td>\n",
       "      <td>260</td>\n",
       "      <td>Kedzie Ave &amp; Milwaukee Ave</td>\n",
       "      <td>260</td>\n",
       "      <td>41.92960</td>\n",
       "      <td>-87.707900</td>\n",
       "      <td>41.929600</td>\n",
       "      <td>-87.707900</td>\n",
       "      <td>casual</td>\n",
       "    </tr>\n",
       "    <tr>\n",
       "      <th>...</th>\n",
       "      <td>...</td>\n",
       "      <td>...</td>\n",
       "      <td>...</td>\n",
       "      <td>...</td>\n",
       "      <td>...</td>\n",
       "      <td>...</td>\n",
       "      <td>...</td>\n",
       "      <td>...</td>\n",
       "      <td>...</td>\n",
       "      <td>...</td>\n",
       "      <td>...</td>\n",
       "      <td>...</td>\n",
       "      <td>...</td>\n",
       "      <td>...</td>\n",
       "    </tr>\n",
       "    <tr>\n",
       "      <th>3275465</th>\n",
       "      <td>202006-divvy-tripdata.csv</td>\n",
       "      <td>90122E03AF512FEA</td>\n",
       "      <td>docked_bike</td>\n",
       "      <td>6/16/2020 1:47:42 PM</td>\n",
       "      <td>6/16/2020 1:57:00 PM</td>\n",
       "      <td>Damen Ave &amp; Sunnyside Ave</td>\n",
       "      <td>316</td>\n",
       "      <td>Clark St &amp; Leland Ave</td>\n",
       "      <td>326</td>\n",
       "      <td>41.96325</td>\n",
       "      <td>-87.679258</td>\n",
       "      <td>41.967096</td>\n",
       "      <td>-87.667429</td>\n",
       "      <td>member</td>\n",
       "    </tr>\n",
       "    <tr>\n",
       "      <th>3275466</th>\n",
       "      <td>202006-divvy-tripdata.csv</td>\n",
       "      <td>45A6AD98DB6FE897</td>\n",
       "      <td>docked_bike</td>\n",
       "      <td>6/8/2020 2:43:20 PM</td>\n",
       "      <td>6/8/2020 2:49:35 PM</td>\n",
       "      <td>Damen Ave &amp; Sunnyside Ave</td>\n",
       "      <td>316</td>\n",
       "      <td>Ravenswood Ave &amp; Lawrence Ave</td>\n",
       "      <td>344</td>\n",
       "      <td>41.96325</td>\n",
       "      <td>-87.679258</td>\n",
       "      <td>41.969090</td>\n",
       "      <td>-87.674237</td>\n",
       "      <td>member</td>\n",
       "    </tr>\n",
       "    <tr>\n",
       "      <th>3275467</th>\n",
       "      <td>202006-divvy-tripdata.csv</td>\n",
       "      <td>08A28F598F988547</td>\n",
       "      <td>docked_bike</td>\n",
       "      <td>6/10/2020 1:01:52 PM</td>\n",
       "      <td>6/10/2020 1:10:44 PM</td>\n",
       "      <td>Damen Ave &amp; Sunnyside Ave</td>\n",
       "      <td>316</td>\n",
       "      <td>Ravenswood Ave &amp; Lawrence Ave</td>\n",
       "      <td>344</td>\n",
       "      <td>41.96325</td>\n",
       "      <td>-87.679258</td>\n",
       "      <td>41.969090</td>\n",
       "      <td>-87.674237</td>\n",
       "      <td>member</td>\n",
       "    </tr>\n",
       "    <tr>\n",
       "      <th>3275468</th>\n",
       "      <td>202006-divvy-tripdata.csv</td>\n",
       "      <td>CE9ECB9784120F72</td>\n",
       "      <td>docked_bike</td>\n",
       "      <td>6/11/2020 10:12:44 AM</td>\n",
       "      <td>6/11/2020 10:18:31 AM</td>\n",
       "      <td>Damen Ave &amp; Sunnyside Ave</td>\n",
       "      <td>316</td>\n",
       "      <td>Ravenswood Ave &amp; Lawrence Ave</td>\n",
       "      <td>344</td>\n",
       "      <td>41.96325</td>\n",
       "      <td>-87.679258</td>\n",
       "      <td>41.969090</td>\n",
       "      <td>-87.674237</td>\n",
       "      <td>member</td>\n",
       "    </tr>\n",
       "    <tr>\n",
       "      <th>3275469</th>\n",
       "      <td>202006-divvy-tripdata.csv</td>\n",
       "      <td>8ACDC8E1F0B4B105</td>\n",
       "      <td>docked_bike</td>\n",
       "      <td>6/11/2020 2:10:17 PM</td>\n",
       "      <td>6/11/2020 2:17:56 PM</td>\n",
       "      <td>Damen Ave &amp; Sunnyside Ave</td>\n",
       "      <td>316</td>\n",
       "      <td>Ravenswood Ave &amp; Lawrence Ave</td>\n",
       "      <td>344</td>\n",
       "      <td>41.96325</td>\n",
       "      <td>-87.679258</td>\n",
       "      <td>41.969090</td>\n",
       "      <td>-87.674237</td>\n",
       "      <td>member</td>\n",
       "    </tr>\n",
       "  </tbody>\n",
       "</table>\n",
       "<p>3275470 rows × 14 columns</p>\n",
       "</div>"
      ],
      "text/plain": [
       "                       Table Names           trip_id rideable_type  \\\n",
       "0        202005-divvy-tripdata.csv  C6BC009DA3D2F9B2   docked_bike   \n",
       "1        202005-divvy-tripdata.csv  0D608B93262EE4BB   docked_bike   \n",
       "2        202005-divvy-tripdata.csv  02668AD35674B983   docked_bike   \n",
       "3        202005-divvy-tripdata.csv  7A50CCAF1EDDB28F   docked_bike   \n",
       "4        202005-divvy-tripdata.csv  2FFCDFDB91FE9A52   docked_bike   \n",
       "...                            ...               ...           ...   \n",
       "3275465  202006-divvy-tripdata.csv  90122E03AF512FEA   docked_bike   \n",
       "3275466  202006-divvy-tripdata.csv  45A6AD98DB6FE897   docked_bike   \n",
       "3275467  202006-divvy-tripdata.csv  08A28F598F988547   docked_bike   \n",
       "3275468  202006-divvy-tripdata.csv  CE9ECB9784120F72   docked_bike   \n",
       "3275469  202006-divvy-tripdata.csv  8ACDC8E1F0B4B105   docked_bike   \n",
       "\n",
       "                    start_time               end_time  \\\n",
       "0          5/7/2020 5:46:43 PM    5/7/2020 6:17:37 PM   \n",
       "1          5/5/2020 2:23:05 PM    5/5/2020 3:02:22 PM   \n",
       "2        5/27/2020 10:03:52 AM  5/27/2020 10:16:49 AM   \n",
       "3        5/25/2020 10:47:11 AM  5/25/2020 11:05:40 AM   \n",
       "4          5/2/2020 2:11:03 PM    5/2/2020 3:48:21 PM   \n",
       "...                        ...                    ...   \n",
       "3275465   6/16/2020 1:47:42 PM   6/16/2020 1:57:00 PM   \n",
       "3275466    6/8/2020 2:43:20 PM    6/8/2020 2:49:35 PM   \n",
       "3275467   6/10/2020 1:01:52 PM   6/10/2020 1:10:44 PM   \n",
       "3275468  6/11/2020 10:12:44 AM  6/11/2020 10:18:31 AM   \n",
       "3275469   6/11/2020 2:10:17 PM   6/11/2020 2:17:56 PM   \n",
       "\n",
       "                  from_station_name  from_station_id  \\\n",
       "0           Greenwood Ave & 47th St              252   \n",
       "1          Glenwood Ave & Touhy Ave              525   \n",
       "2        Franklin St & Jackson Blvd               36   \n",
       "3         Clark St & Wrightwood Ave              340   \n",
       "4        Kedzie Ave & Milwaukee Ave              260   \n",
       "...                             ...              ...   \n",
       "3275465   Damen Ave & Sunnyside Ave              316   \n",
       "3275466   Damen Ave & Sunnyside Ave              316   \n",
       "3275467   Damen Ave & Sunnyside Ave              316   \n",
       "3275468   Damen Ave & Sunnyside Ave              316   \n",
       "3275469   Damen Ave & Sunnyside Ave              316   \n",
       "\n",
       "                      end_station_name  end_station_id  start_lat  start_lng  \\\n",
       "0              Greenwood Ave & 47th St             252   41.80980 -87.599400   \n",
       "1             Glenwood Ave & Touhy Ave             525   42.01270 -87.666100   \n",
       "2               Wabash Ave & Grand Ave             199   41.87770 -87.635300   \n",
       "3                Clark St & Leland Ave             326   41.92950 -87.643100   \n",
       "4           Kedzie Ave & Milwaukee Ave             260   41.92960 -87.707900   \n",
       "...                                ...             ...        ...        ...   \n",
       "3275465          Clark St & Leland Ave             326   41.96325 -87.679258   \n",
       "3275466  Ravenswood Ave & Lawrence Ave             344   41.96325 -87.679258   \n",
       "3275467  Ravenswood Ave & Lawrence Ave             344   41.96325 -87.679258   \n",
       "3275468  Ravenswood Ave & Lawrence Ave             344   41.96325 -87.679258   \n",
       "3275469  Ravenswood Ave & Lawrence Ave             344   41.96325 -87.679258   \n",
       "\n",
       "           end_lat    end_lng usertype  \n",
       "0        41.809800 -87.599400   casual  \n",
       "1        42.012700 -87.666100   casual  \n",
       "2        41.891500 -87.626800   member  \n",
       "3        41.967100 -87.667400   casual  \n",
       "4        41.929600 -87.707900   casual  \n",
       "...            ...        ...      ...  \n",
       "3275465  41.967096 -87.667429   member  \n",
       "3275466  41.969090 -87.674237   member  \n",
       "3275467  41.969090 -87.674237   member  \n",
       "3275468  41.969090 -87.674237   member  \n",
       "3275469  41.969090 -87.674237   member  \n",
       "\n",
       "[3275470 rows x 14 columns]"
      ]
     },
     "execution_count": 13,
     "metadata": {},
     "output_type": "execute_result"
    }
   ],
   "source": [
    "df3.rename(columns = {'member_casual':'usertype'})"
   ]
  },
  {
   "cell_type": "code",
   "execution_count": 14,
   "metadata": {},
   "outputs": [],
   "source": [
    "df3.rename(columns = {'end_station_name':'to_station_name','end_station_id':'to_station_id','member_casual': 'usertype'}, inplace = True)"
   ]
  },
  {
   "cell_type": "code",
   "execution_count": 15,
   "metadata": {},
   "outputs": [
    {
     "name": "stdout",
     "output_type": "stream",
     "text": [
      "<class 'pandas.core.frame.DataFrame'>\n",
      "RangeIndex: 3275470 entries, 0 to 3275469\n",
      "Data columns (total 14 columns):\n",
      " #   Column             Dtype  \n",
      "---  ------             -----  \n",
      " 0   Table Names        object \n",
      " 1   trip_id            object \n",
      " 2   rideable_type      object \n",
      " 3   start_time         object \n",
      " 4   end_time           object \n",
      " 5   from_station_name  object \n",
      " 6   from_station_id    int64  \n",
      " 7   to_station_name    object \n",
      " 8   to_station_id      int64  \n",
      " 9   start_lat          float64\n",
      " 10  start_lng          float64\n",
      " 11  end_lat            float64\n",
      " 12  end_lng            float64\n",
      " 13  usertype           object \n",
      "dtypes: float64(4), int64(2), object(8)\n",
      "memory usage: 349.9+ MB\n"
     ]
    }
   ],
   "source": [
    "df3.info()"
   ]
  },
  {
   "cell_type": "code",
   "execution_count": 16,
   "metadata": {},
   "outputs": [],
   "source": [
    "df4=pd.read_excel('file:///Users/Sana/Desktop/DVdata/Divvy_Data2021.xlsx')"
   ]
  },
  {
   "cell_type": "code",
   "execution_count": 17,
   "metadata": {
    "scrolled": true
   },
   "outputs": [
    {
     "name": "stdout",
     "output_type": "stream",
     "text": [
      "<class 'pandas.core.frame.DataFrame'>\n",
      "RangeIndex: 1048575 entries, 0 to 1048574\n",
      "Data columns (total 13 columns):\n",
      " #   Column              Non-Null Count    Dtype         \n",
      "---  ------              --------------    -----         \n",
      " 0   ride_id             1048575 non-null  object        \n",
      " 1   rideable_type       1048575 non-null  object        \n",
      " 2   started_at          1048575 non-null  datetime64[ns]\n",
      " 3   ended_at            1048575 non-null  datetime64[ns]\n",
      " 4   start_station_name  953318 non-null   object        \n",
      " 5   start_station_id    953319 non-null   object        \n",
      " 6   end_station_name    925183 non-null   object        \n",
      " 7   end_station_id      925183 non-null   object        \n",
      " 8   start_lat           1048575 non-null  float64       \n",
      " 9   start_lng           1048575 non-null  float64       \n",
      " 10  end_lat             1047214 non-null  float64       \n",
      " 11  end_lng             1047214 non-null  float64       \n",
      " 12  member_casual       1048575 non-null  object        \n",
      "dtypes: datetime64[ns](2), float64(4), object(7)\n",
      "memory usage: 104.0+ MB\n"
     ]
    }
   ],
   "source": [
    "df4.info()"
   ]
  },
  {
   "cell_type": "code",
   "execution_count": 18,
   "metadata": {},
   "outputs": [],
   "source": []
  },
  {
   "cell_type": "code",
   "execution_count": 19,
   "metadata": {},
   "outputs": [],
   "source": [
    "df4.rename(columns = {'end_station_name':'to_station_name','end_station_id':'to_station_id','member_casual': 'usertype'}, inplace = True)"
   ]
  },
  {
   "cell_type": "code",
   "execution_count": 20,
   "metadata": {},
   "outputs": [
    {
     "name": "stdout",
     "output_type": "stream",
     "text": [
      "<class 'pandas.core.frame.DataFrame'>\n",
      "RangeIndex: 1048575 entries, 0 to 1048574\n",
      "Data columns (total 13 columns):\n",
      " #   Column             Non-Null Count    Dtype         \n",
      "---  ------             --------------    -----         \n",
      " 0   trip_id            1048575 non-null  object        \n",
      " 1   rideable_type      1048575 non-null  object        \n",
      " 2   start_time         1048575 non-null  datetime64[ns]\n",
      " 3   end_time           1048575 non-null  datetime64[ns]\n",
      " 4   from_station_name  953318 non-null   object        \n",
      " 5   from_station_id    953319 non-null   object        \n",
      " 6   to_station_name    925183 non-null   object        \n",
      " 7   to_station_id      925183 non-null   object        \n",
      " 8   start_lat          1048575 non-null  float64       \n",
      " 9   start_lng          1048575 non-null  float64       \n",
      " 10  end_lat            1047214 non-null  float64       \n",
      " 11  end_lng            1047214 non-null  float64       \n",
      " 12  usertype           1048575 non-null  object        \n",
      "dtypes: datetime64[ns](2), float64(4), object(7)\n",
      "memory usage: 104.0+ MB\n"
     ]
    }
   ],
   "source": [
    "df4.info()"
   ]
  },
  {
   "cell_type": "code",
   "execution_count": 21,
   "metadata": {},
   "outputs": [],
   "source": [
    "\n",
    "df3['start_time'] = pd.to_datetime(df3.start_time)"
   ]
  },
  {
   "cell_type": "code",
   "execution_count": 22,
   "metadata": {},
   "outputs": [],
   "source": [
    "df3['end_time'] = pd.to_datetime(df3.end_time)"
   ]
  },
  {
   "cell_type": "code",
   "execution_count": 23,
   "metadata": {},
   "outputs": [
    {
     "name": "stdout",
     "output_type": "stream",
     "text": [
      "<class 'pandas.core.frame.DataFrame'>\n",
      "RangeIndex: 3275470 entries, 0 to 3275469\n",
      "Data columns (total 14 columns):\n",
      " #   Column             Dtype         \n",
      "---  ------             -----         \n",
      " 0   Table Names        object        \n",
      " 1   trip_id            object        \n",
      " 2   rideable_type      object        \n",
      " 3   start_time         datetime64[ns]\n",
      " 4   end_time           datetime64[ns]\n",
      " 5   from_station_name  object        \n",
      " 6   from_station_id    int64         \n",
      " 7   to_station_name    object        \n",
      " 8   to_station_id      int64         \n",
      " 9   start_lat          float64       \n",
      " 10  start_lng          float64       \n",
      " 11  end_lat            float64       \n",
      " 12  end_lng            float64       \n",
      " 13  usertype           object        \n",
      "dtypes: datetime64[ns](2), float64(4), int64(2), object(6)\n",
      "memory usage: 349.9+ MB\n"
     ]
    }
   ],
   "source": [
    "df3.info()"
   ]
  },
  {
   "cell_type": "code",
   "execution_count": 28,
   "metadata": {},
   "outputs": [],
   "source": [
    "df_2019['start_time'] = pd.to_datetime(df_2019.start_time)"
   ]
  },
  {
   "cell_type": "code",
   "execution_count": 29,
   "metadata": {},
   "outputs": [],
   "source": [
    "df_2019['end_time'] = pd.to_datetime(df_2019.end_time)"
   ]
  },
  {
   "cell_type": "code",
   "execution_count": 32,
   "metadata": {},
   "outputs": [],
   "source": [
    "df_2018['end_time'] = pd.to_datetime(df_2018.end_time)"
   ]
  },
  {
   "cell_type": "code",
   "execution_count": 33,
   "metadata": {},
   "outputs": [],
   "source": [
    "df_2018['start_time'] = pd.to_datetime(df_2018.start_time)"
   ]
  },
  {
   "cell_type": "code",
   "execution_count": 34,
   "metadata": {},
   "outputs": [
    {
     "name": "stdout",
     "output_type": "stream",
     "text": [
      "<class 'pandas.core.frame.DataFrame'>\n",
      "RangeIndex: 3204831 entries, 0 to 3204830\n",
      "Data columns (total 13 columns):\n",
      " #   Column             Dtype         \n",
      "---  ------             -----         \n",
      " 0   Table Names        object        \n",
      " 1   trip_id            int64         \n",
      " 2   start_time         datetime64[ns]\n",
      " 3   bikeid             int64         \n",
      " 4   end_time           datetime64[ns]\n",
      " 5   tripduration       object        \n",
      " 6   from_station_id    int64         \n",
      " 7   from_station_name  object        \n",
      " 8   to_station_id      int64         \n",
      " 9   to_station_name    object        \n",
      " 10  usertype           object        \n",
      " 11  gender             object        \n",
      " 12  birthyear          float64       \n",
      "dtypes: datetime64[ns](2), float64(1), int64(4), object(6)\n",
      "memory usage: 317.9+ MB\n"
     ]
    }
   ],
   "source": [
    "df_2018.info()"
   ]
  },
  {
   "cell_type": "code",
   "execution_count": 35,
   "metadata": {},
   "outputs": [],
   "source": [
    "df_combine = pd.concat([df_2018,df_2019,df3,df4], axis=0,ignore_index=True)"
   ]
  },
  {
   "cell_type": "code",
   "execution_count": 36,
   "metadata": {},
   "outputs": [
    {
     "name": "stdout",
     "output_type": "stream",
     "text": [
      "<class 'pandas.core.frame.DataFrame'>\n",
      "RangeIndex: 10330080 entries, 0 to 10330079\n",
      "Data columns (total 18 columns):\n",
      " #   Column             Dtype         \n",
      "---  ------             -----         \n",
      " 0   Table Names        object        \n",
      " 1   trip_id            object        \n",
      " 2   start_time         datetime64[ns]\n",
      " 3   bikeid             float64       \n",
      " 4   end_time           datetime64[ns]\n",
      " 5   tripduration       object        \n",
      " 6   from_station_id    object        \n",
      " 7   from_station_name  object        \n",
      " 8   to_station_id      object        \n",
      " 9   to_station_name    object        \n",
      " 10  usertype           object        \n",
      " 11  gender             object        \n",
      " 12  birthyear          float64       \n",
      " 13  rideable_type      object        \n",
      " 14  start_lat          float64       \n",
      " 15  start_lng          float64       \n",
      " 16  end_lat            float64       \n",
      " 17  end_lng            float64       \n",
      "dtypes: datetime64[ns](2), float64(6), object(10)\n",
      "memory usage: 1.4+ GB\n"
     ]
    }
   ],
   "source": [
    "df_combine.info()"
   ]
  },
  {
   "cell_type": "code",
   "execution_count": 37,
   "metadata": {},
   "outputs": [
    {
     "data": {
      "text/plain": [
       "Table Names          4957460\n",
       "trip_id                    0\n",
       "start_time                 0\n",
       "bikeid               4324045\n",
       "end_time                   0\n",
       "tripduration         4324045\n",
       "from_station_id        95256\n",
       "from_station_name      95257\n",
       "to_station_id         123392\n",
       "to_station_name       123392\n",
       "usertype                   0\n",
       "gender               5315422\n",
       "birthyear            5292120\n",
       "rideable_type        6006035\n",
       "start_lat            6006035\n",
       "start_lng            6006035\n",
       "end_lat              6007396\n",
       "end_lng              6007396\n",
       "dtype: int64"
      ]
     },
     "execution_count": 37,
     "metadata": {},
     "output_type": "execute_result"
    }
   ],
   "source": [
    "df_combine.isna().sum()"
   ]
  },
  {
   "cell_type": "code",
   "execution_count": 38,
   "metadata": {},
   "outputs": [],
   "source": [
    "df_clean=df_combine.dropna(subset=['from_station_id', 'from_station_name'], how='all')"
   ]
  },
  {
   "cell_type": "code",
   "execution_count": 39,
   "metadata": {},
   "outputs": [
    {
     "data": {
      "text/plain": [
       "Table Names          4862204\n",
       "trip_id                    0\n",
       "start_time                 0\n",
       "bikeid               4228789\n",
       "end_time                   0\n",
       "tripduration         4228789\n",
       "from_station_id            0\n",
       "from_station_name          1\n",
       "to_station_id          68398\n",
       "to_station_name        68398\n",
       "usertype                   0\n",
       "gender               5220166\n",
       "birthyear            5196864\n",
       "rideable_type        6006035\n",
       "start_lat            6006035\n",
       "start_lng            6006035\n",
       "end_lat              6007396\n",
       "end_lng              6007396\n",
       "dtype: int64"
      ]
     },
     "execution_count": 39,
     "metadata": {},
     "output_type": "execute_result"
    }
   ],
   "source": [
    "df_clean.isna().sum()"
   ]
  },
  {
   "cell_type": "code",
   "execution_count": 40,
   "metadata": {},
   "outputs": [],
   "source": [
    "df_clean1=df_clean.drop(columns=['Table Names'])"
   ]
  },
  {
   "cell_type": "code",
   "execution_count": 47,
   "metadata": {},
   "outputs": [],
   "source": [
    "df_processed = pd.read_csv('file:///Users/Sana/Desktop/DVdata/data.csv')"
   ]
  },
  {
   "cell_type": "code",
   "execution_count": 48,
   "metadata": {},
   "outputs": [
    {
     "name": "stdout",
     "output_type": "stream",
     "text": [
      "<class 'pandas.core.frame.DataFrame'>\n",
      "RangeIndex: 9495235 entries, 0 to 9495234\n",
      "Data columns (total 23 columns):\n",
      " #   Column             Dtype  \n",
      "---  ------             -----  \n",
      " 0   trip_id            int64  \n",
      " 1   year               int64  \n",
      " 2   month              int64  \n",
      " 3   week               int64  \n",
      " 4   day                int64  \n",
      " 5   hour               int64  \n",
      " 6   usertype           object \n",
      " 7   gender             object \n",
      " 8   starttime          object \n",
      " 9   stoptime           object \n",
      " 10  tripduration       float64\n",
      " 11  temperature        float64\n",
      " 12  events             object \n",
      " 13  from_station_id    int64  \n",
      " 14  from_station_name  object \n",
      " 15  latitude_start     float64\n",
      " 16  longitude_start    float64\n",
      " 17  dpcapacity_start   float64\n",
      " 18  to_station_id      int64  \n",
      " 19  to_station_name    object \n",
      " 20  latitude_end       float64\n",
      " 21  longitude_end      float64\n",
      " 22  dpcapacity_end     float64\n",
      "dtypes: float64(8), int64(8), object(7)\n",
      "memory usage: 1.6+ GB\n"
     ]
    }
   ],
   "source": [
    "df_processed.info()"
   ]
  },
  {
   "cell_type": "code",
   "execution_count": 49,
   "metadata": {},
   "outputs": [],
   "source": [
    "df_processed1=df_processed.drop(columns=['dpcapacity_end','dpcapacity_start'])"
   ]
  },
  {
   "cell_type": "code",
   "execution_count": 45,
   "metadata": {},
   "outputs": [],
   "source": [
    "df_clean1.rename(columns = {'start_time':'starttime','end_time':'stoptime','start_lat': 'latitude_start','start_lng': 'longitude_start','end_lat': 'latitude_end','end_lng': 'longitude_end'}, inplace = True)"
   ]
  },
  {
   "cell_type": "code",
   "execution_count": 46,
   "metadata": {},
   "outputs": [
    {
     "name": "stdout",
     "output_type": "stream",
     "text": [
      "<class 'pandas.core.frame.DataFrame'>\n",
      "Int64Index: 10234824 entries, 0 to 10330079\n",
      "Data columns (total 17 columns):\n",
      " #   Column             Dtype         \n",
      "---  ------             -----         \n",
      " 0   trip_id            object        \n",
      " 1   starttime          datetime64[ns]\n",
      " 2   bikeid             float64       \n",
      " 3   stoptime           datetime64[ns]\n",
      " 4   tripduration       object        \n",
      " 5   from_station_id    object        \n",
      " 6   from_station_name  object        \n",
      " 7   to_station_id      object        \n",
      " 8   to_station_name    object        \n",
      " 9   usertype           object        \n",
      " 10  gender             object        \n",
      " 11  birthyear          float64       \n",
      " 12  rideable_type      object        \n",
      " 13  latitude_start     float64       \n",
      " 14  longitude_start    float64       \n",
      " 15  latitude_end       float64       \n",
      " 16  longitude_end      float64       \n",
      "dtypes: datetime64[ns](2), float64(6), object(9)\n",
      "memory usage: 1.4+ GB\n"
     ]
    }
   ],
   "source": [
    "df_clean1.info()"
   ]
  },
  {
   "cell_type": "code",
   "execution_count": 47,
   "metadata": {},
   "outputs": [],
   "source": [
    "df_allcombined = pd.concat([df_processed1,df_clean1], axis=0,ignore_index=True)"
   ]
  },
  {
   "cell_type": "code",
   "execution_count": 48,
   "metadata": {},
   "outputs": [
    {
     "name": "stdout",
     "output_type": "stream",
     "text": [
      "<class 'pandas.core.frame.DataFrame'>\n",
      "RangeIndex: 19730059 entries, 0 to 19730058\n",
      "Data columns (total 24 columns):\n",
      " #   Column             Dtype  \n",
      "---  ------             -----  \n",
      " 0   trip_id            object \n",
      " 1   year               float64\n",
      " 2   month              float64\n",
      " 3   week               float64\n",
      " 4   day                float64\n",
      " 5   hour               float64\n",
      " 6   usertype           object \n",
      " 7   gender             object \n",
      " 8   starttime          object \n",
      " 9   stoptime           object \n",
      " 10  tripduration       object \n",
      " 11  temperature        float64\n",
      " 12  events             object \n",
      " 13  from_station_id    object \n",
      " 14  from_station_name  object \n",
      " 15  latitude_start     float64\n",
      " 16  longitude_start    float64\n",
      " 17  to_station_id      object \n",
      " 18  to_station_name    object \n",
      " 19  latitude_end       float64\n",
      " 20  longitude_end      float64\n",
      " 21  bikeid             float64\n",
      " 22  birthyear          float64\n",
      " 23  rideable_type      object \n",
      "dtypes: float64(12), object(12)\n",
      "memory usage: 3.5+ GB\n"
     ]
    }
   ],
   "source": [
    "df_allcombined.info()"
   ]
  },
  {
   "cell_type": "code",
   "execution_count": 50,
   "metadata": {},
   "outputs": [
    {
     "data": {
      "text/html": [
       "<div>\n",
       "<style scoped>\n",
       "    .dataframe tbody tr th:only-of-type {\n",
       "        vertical-align: middle;\n",
       "    }\n",
       "\n",
       "    .dataframe tbody tr th {\n",
       "        vertical-align: top;\n",
       "    }\n",
       "\n",
       "    .dataframe thead th {\n",
       "        text-align: right;\n",
       "    }\n",
       "</style>\n",
       "<table border=\"1\" class=\"dataframe\">\n",
       "  <thead>\n",
       "    <tr style=\"text-align: right;\">\n",
       "      <th></th>\n",
       "      <th>trip_id</th>\n",
       "      <th>starttime</th>\n",
       "      <th>bikeid</th>\n",
       "      <th>stoptime</th>\n",
       "      <th>tripduration</th>\n",
       "      <th>from_station_id</th>\n",
       "      <th>from_station_name</th>\n",
       "      <th>to_station_id</th>\n",
       "      <th>to_station_name</th>\n",
       "      <th>usertype</th>\n",
       "      <th>gender</th>\n",
       "      <th>birthyear</th>\n",
       "      <th>rideable_type</th>\n",
       "      <th>latitude_start</th>\n",
       "      <th>longitude_start</th>\n",
       "      <th>latitude_end</th>\n",
       "      <th>longitude_end</th>\n",
       "    </tr>\n",
       "  </thead>\n",
       "  <tbody>\n",
       "    <tr>\n",
       "      <th>10330075</th>\n",
       "      <td>600A83BCF8EEDDAF</td>\n",
       "      <td>2021-07-24 23:18:26</td>\n",
       "      <td>NaN</td>\n",
       "      <td>2021-07-24 23:36:28</td>\n",
       "      <td>NaN</td>\n",
       "      <td>13224</td>\n",
       "      <td>Ashland Ave &amp; Blackhawk St</td>\n",
       "      <td>TA1309000061</td>\n",
       "      <td>Halsted St &amp; Wrightwood Ave</td>\n",
       "      <td>casual</td>\n",
       "      <td>NaN</td>\n",
       "      <td>NaN</td>\n",
       "      <td>classic_bike</td>\n",
       "      <td>41.907066</td>\n",
       "      <td>-87.667252</td>\n",
       "      <td>41.929143</td>\n",
       "      <td>-87.649077</td>\n",
       "    </tr>\n",
       "    <tr>\n",
       "      <th>10330076</th>\n",
       "      <td>D7A24D94DFE14EDF</td>\n",
       "      <td>2021-07-25 12:28:12</td>\n",
       "      <td>NaN</td>\n",
       "      <td>2021-07-25 12:36:44</td>\n",
       "      <td>NaN</td>\n",
       "      <td>13229</td>\n",
       "      <td>Southport Ave &amp; Belmont Ave</td>\n",
       "      <td>TA1309000061</td>\n",
       "      <td>Halsted St &amp; Wrightwood Ave</td>\n",
       "      <td>casual</td>\n",
       "      <td>NaN</td>\n",
       "      <td>NaN</td>\n",
       "      <td>classic_bike</td>\n",
       "      <td>41.939478</td>\n",
       "      <td>-87.663748</td>\n",
       "      <td>41.929143</td>\n",
       "      <td>-87.649077</td>\n",
       "    </tr>\n",
       "    <tr>\n",
       "      <th>10330077</th>\n",
       "      <td>D4196BE2B92B97EB</td>\n",
       "      <td>2021-07-15 11:51:11</td>\n",
       "      <td>NaN</td>\n",
       "      <td>2021-07-15 12:01:05</td>\n",
       "      <td>NaN</td>\n",
       "      <td>13229</td>\n",
       "      <td>Southport Ave &amp; Belmont Ave</td>\n",
       "      <td>TA1309000061</td>\n",
       "      <td>Halsted St &amp; Wrightwood Ave</td>\n",
       "      <td>casual</td>\n",
       "      <td>NaN</td>\n",
       "      <td>NaN</td>\n",
       "      <td>classic_bike</td>\n",
       "      <td>41.939478</td>\n",
       "      <td>-87.663748</td>\n",
       "      <td>41.929143</td>\n",
       "      <td>-87.649077</td>\n",
       "    </tr>\n",
       "    <tr>\n",
       "      <th>10330078</th>\n",
       "      <td>862CFFC144A6DB1B</td>\n",
       "      <td>2021-07-17 17:03:52</td>\n",
       "      <td>NaN</td>\n",
       "      <td>2021-07-17 17:11:00</td>\n",
       "      <td>NaN</td>\n",
       "      <td>13229</td>\n",
       "      <td>Southport Ave &amp; Belmont Ave</td>\n",
       "      <td>TA1309000061</td>\n",
       "      <td>Halsted St &amp; Wrightwood Ave</td>\n",
       "      <td>casual</td>\n",
       "      <td>NaN</td>\n",
       "      <td>NaN</td>\n",
       "      <td>classic_bike</td>\n",
       "      <td>41.939478</td>\n",
       "      <td>-87.663748</td>\n",
       "      <td>41.929143</td>\n",
       "      <td>-87.649077</td>\n",
       "    </tr>\n",
       "    <tr>\n",
       "      <th>10330079</th>\n",
       "      <td>B30890C2DC452E03</td>\n",
       "      <td>2021-07-07 18:03:23</td>\n",
       "      <td>NaN</td>\n",
       "      <td>2021-07-07 18:11:43</td>\n",
       "      <td>NaN</td>\n",
       "      <td>13229</td>\n",
       "      <td>Southport Ave &amp; Belmont Ave</td>\n",
       "      <td>TA1309000061</td>\n",
       "      <td>Halsted St &amp; Wrightwood Ave</td>\n",
       "      <td>casual</td>\n",
       "      <td>NaN</td>\n",
       "      <td>NaN</td>\n",
       "      <td>classic_bike</td>\n",
       "      <td>41.939478</td>\n",
       "      <td>-87.663748</td>\n",
       "      <td>41.929143</td>\n",
       "      <td>-87.649077</td>\n",
       "    </tr>\n",
       "  </tbody>\n",
       "</table>\n",
       "</div>"
      ],
      "text/plain": [
       "                   trip_id           starttime  bikeid            stoptime  \\\n",
       "10330075  600A83BCF8EEDDAF 2021-07-24 23:18:26     NaN 2021-07-24 23:36:28   \n",
       "10330076  D7A24D94DFE14EDF 2021-07-25 12:28:12     NaN 2021-07-25 12:36:44   \n",
       "10330077  D4196BE2B92B97EB 2021-07-15 11:51:11     NaN 2021-07-15 12:01:05   \n",
       "10330078  862CFFC144A6DB1B 2021-07-17 17:03:52     NaN 2021-07-17 17:11:00   \n",
       "10330079  B30890C2DC452E03 2021-07-07 18:03:23     NaN 2021-07-07 18:11:43   \n",
       "\n",
       "         tripduration from_station_id            from_station_name  \\\n",
       "10330075          NaN           13224   Ashland Ave & Blackhawk St   \n",
       "10330076          NaN           13229  Southport Ave & Belmont Ave   \n",
       "10330077          NaN           13229  Southport Ave & Belmont Ave   \n",
       "10330078          NaN           13229  Southport Ave & Belmont Ave   \n",
       "10330079          NaN           13229  Southport Ave & Belmont Ave   \n",
       "\n",
       "         to_station_id              to_station_name usertype gender  \\\n",
       "10330075  TA1309000061  Halsted St & Wrightwood Ave   casual    NaN   \n",
       "10330076  TA1309000061  Halsted St & Wrightwood Ave   casual    NaN   \n",
       "10330077  TA1309000061  Halsted St & Wrightwood Ave   casual    NaN   \n",
       "10330078  TA1309000061  Halsted St & Wrightwood Ave   casual    NaN   \n",
       "10330079  TA1309000061  Halsted St & Wrightwood Ave   casual    NaN   \n",
       "\n",
       "          birthyear rideable_type  latitude_start  longitude_start  \\\n",
       "10330075        NaN  classic_bike       41.907066       -87.667252   \n",
       "10330076        NaN  classic_bike       41.939478       -87.663748   \n",
       "10330077        NaN  classic_bike       41.939478       -87.663748   \n",
       "10330078        NaN  classic_bike       41.939478       -87.663748   \n",
       "10330079        NaN  classic_bike       41.939478       -87.663748   \n",
       "\n",
       "          latitude_end  longitude_end  \n",
       "10330075     41.929143     -87.649077  \n",
       "10330076     41.929143     -87.649077  \n",
       "10330077     41.929143     -87.649077  \n",
       "10330078     41.929143     -87.649077  \n",
       "10330079     41.929143     -87.649077  "
      ]
     },
     "execution_count": 50,
     "metadata": {},
     "output_type": "execute_result"
    }
   ],
   "source": [
    "df_clean1.tail()"
   ]
  },
  {
   "cell_type": "code",
   "execution_count": 49,
   "metadata": {},
   "outputs": [],
   "source": [
    "df_allcombined.to_csv('Divvyfinal_processed.csv', index=False)"
   ]
  },
  {
   "cell_type": "code",
   "execution_count": 52,
   "metadata": {},
   "outputs": [],
   "source": [
    "months=df3['start_time'].dt.month"
   ]
  },
  {
   "cell_type": "markdown",
   "metadata": {},
   "source": [
    "months"
   ]
  },
  {
   "cell_type": "code",
   "execution_count": 53,
   "metadata": {},
   "outputs": [
    {
     "data": {
      "text/plain": [
       "0          5\n",
       "1          5\n",
       "2          5\n",
       "3          5\n",
       "4          5\n",
       "          ..\n",
       "3275465    6\n",
       "3275466    6\n",
       "3275467    6\n",
       "3275468    6\n",
       "3275469    6\n",
       "Name: start_time, Length: 3275470, dtype: int64"
      ]
     },
     "execution_count": 53,
     "metadata": {},
     "output_type": "execute_result"
    }
   ],
   "source": [
    "months\n"
   ]
  },
  {
   "cell_type": "code",
   "execution_count": 54,
   "metadata": {},
   "outputs": [],
   "source": [
    "months=df4['start_time'].dt.month"
   ]
  },
  {
   "cell_type": "code",
   "execution_count": 55,
   "metadata": {},
   "outputs": [
    {
     "data": {
      "text/plain": [
       "0          1\n",
       "1          1\n",
       "2          1\n",
       "3          1\n",
       "4          1\n",
       "          ..\n",
       "1048570    7\n",
       "1048571    7\n",
       "1048572    7\n",
       "1048573    7\n",
       "1048574    7\n",
       "Name: start_time, Length: 1048575, dtype: int64"
      ]
     },
     "execution_count": 55,
     "metadata": {},
     "output_type": "execute_result"
    }
   ],
   "source": [
    "months"
   ]
  },
  {
   "cell_type": "code",
   "execution_count": 11,
   "metadata": {},
   "outputs": [],
   "source": [
    "df_a=pd.read_csv('file:///Users/Sana/Desktop/DVdata/2020/202004-divvy-tripdata.csv')"
   ]
  },
  {
   "cell_type": "code",
   "execution_count": 12,
   "metadata": {},
   "outputs": [],
   "source": [
    "df_b=pd.read_csv('file:///Users/Sana/Desktop/DVdata/2020/202005-divvy-tripdata.csv')"
   ]
  },
  {
   "cell_type": "code",
   "execution_count": 13,
   "metadata": {},
   "outputs": [],
   "source": [
    "df_c=pd.read_csv('file:///Users/Sana/Desktop/DVdata/2020/202006-divvy-tripdata.csv')"
   ]
  },
  {
   "cell_type": "code",
   "execution_count": 14,
   "metadata": {},
   "outputs": [],
   "source": [
    "df_d=pd.read_csv('file:///Users/Sana/Desktop/DVdata/2020/202007-divvy-tripdata.csv')"
   ]
  },
  {
   "cell_type": "code",
   "execution_count": 15,
   "metadata": {},
   "outputs": [],
   "source": [
    "df_e=pd.read_csv('file:///Users/Sana/Desktop/DVdata/2020/202008-divvy-tripdata.csv')"
   ]
  },
  {
   "cell_type": "code",
   "execution_count": 16,
   "metadata": {},
   "outputs": [],
   "source": [
    "df_f=pd.read_csv('file:///Users/Sana/Desktop/DVdata/2020/202009-divvy-tripdata.csv')"
   ]
  },
  {
   "cell_type": "code",
   "execution_count": 17,
   "metadata": {},
   "outputs": [],
   "source": [
    "df_g=pd.read_csv('file:///Users/Sana/Desktop/DVdata/2020/202010-divvy-tripdata.csv')"
   ]
  },
  {
   "cell_type": "code",
   "execution_count": 18,
   "metadata": {},
   "outputs": [],
   "source": [
    "df_h=pd.read_csv('file:///Users/Sana/Desktop/DVdata/2020/202011-divvy-tripdata.csv')"
   ]
  },
  {
   "cell_type": "code",
   "execution_count": 19,
   "metadata": {},
   "outputs": [],
   "source": [
    "df_i=pd.read_csv('file:///Users/Sana/Desktop/DVdata/2020/202012-divvy-tripdata.csv')"
   ]
  },
  {
   "cell_type": "code",
   "execution_count": 20,
   "metadata": {},
   "outputs": [],
   "source": [
    "df_j=pd.read_csv('file:///Users/Sana/Desktop/DVdata/2020/Divvy_Trips_2020_Q1.csv')"
   ]
  },
  {
   "cell_type": "code",
   "execution_count": 22,
   "metadata": {},
   "outputs": [],
   "source": [
    "df_2020= pd.concat([df_a,df_b,df_c,df_d,df_e,df_f,df_g,df_h,df_i,df_j], axis=0,ignore_index=True)"
   ]
  },
  {
   "cell_type": "code",
   "execution_count": 23,
   "metadata": {},
   "outputs": [
    {
     "name": "stdout",
     "output_type": "stream",
     "text": [
      "<class 'pandas.core.frame.DataFrame'>\n",
      "RangeIndex: 3541683 entries, 0 to 3541682\n",
      "Data columns (total 13 columns):\n",
      " #   Column              Dtype  \n",
      "---  ------              -----  \n",
      " 0   ride_id             object \n",
      " 1   rideable_type       object \n",
      " 2   started_at          object \n",
      " 3   ended_at            object \n",
      " 4   start_station_name  object \n",
      " 5   start_station_id    object \n",
      " 6   end_station_name    object \n",
      " 7   end_station_id      object \n",
      " 8   start_lat           float64\n",
      " 9   start_lng           float64\n",
      " 10  end_lat             float64\n",
      " 11  end_lng             float64\n",
      " 12  member_casual       object \n",
      "dtypes: float64(4), object(9)\n",
      "memory usage: 351.3+ MB\n"
     ]
    }
   ],
   "source": [
    "df_2020.info()\n"
   ]
  },
  {
   "cell_type": "code",
   "execution_count": 24,
   "metadata": {},
   "outputs": [],
   "source": [
    "df_2020.rename(columns = {'end_station_name':'to_station_name','end_station_id':'to_station_id','member_casual': 'usertype'}, inplace = True)"
   ]
  },
  {
   "cell_type": "code",
   "execution_count": 25,
   "metadata": {},
   "outputs": [],
   "source": [
    "df_2020.rename(columns = {'ride_id':'trip_id','started_at':'start_time','ended_at': 'end_time','start_station_name':'from_station_name','start_station_id':'from_station_id'}, inplace = True)"
   ]
  },
  {
   "cell_type": "code",
   "execution_count": 26,
   "metadata": {},
   "outputs": [
    {
     "name": "stdout",
     "output_type": "stream",
     "text": [
      "<class 'pandas.core.frame.DataFrame'>\n",
      "RangeIndex: 3541683 entries, 0 to 3541682\n",
      "Data columns (total 13 columns):\n",
      " #   Column             Dtype  \n",
      "---  ------             -----  \n",
      " 0   trip_id            object \n",
      " 1   rideable_type      object \n",
      " 2   start_time         object \n",
      " 3   end_time           object \n",
      " 4   from_station_name  object \n",
      " 5   from_station_id    object \n",
      " 6   to_station_name    object \n",
      " 7   to_station_id      object \n",
      " 8   start_lat          float64\n",
      " 9   start_lng          float64\n",
      " 10  end_lat            float64\n",
      " 11  end_lng            float64\n",
      " 12  usertype           object \n",
      "dtypes: float64(4), object(9)\n",
      "memory usage: 351.3+ MB\n"
     ]
    }
   ],
   "source": [
    "df_2020.info()"
   ]
  },
  {
   "cell_type": "code",
   "execution_count": 75,
   "metadata": {},
   "outputs": [],
   "source": [
    "df_2020['end_time'] = pd.to_datetime(df_2020.end_time)"
   ]
  },
  {
   "cell_type": "code",
   "execution_count": 77,
   "metadata": {},
   "outputs": [],
   "source": [
    "df_2020['start_time'] = pd.to_datetime(df_2020.start_time)"
   ]
  },
  {
   "cell_type": "code",
   "execution_count": 78,
   "metadata": {},
   "outputs": [
    {
     "name": "stdout",
     "output_type": "stream",
     "text": [
      "<class 'pandas.core.frame.DataFrame'>\n",
      "RangeIndex: 3541683 entries, 0 to 3541682\n",
      "Data columns (total 13 columns):\n",
      " #   Column             Dtype         \n",
      "---  ------             -----         \n",
      " 0   trip_id            object        \n",
      " 1   rideable_type      object        \n",
      " 2   start_time         datetime64[ns]\n",
      " 3   end_time           datetime64[ns]\n",
      " 4   from_station_name  object        \n",
      " 5   from_station_id    object        \n",
      " 6   to_station_name    object        \n",
      " 7   to_station_id      object        \n",
      " 8   start_lat          float64       \n",
      " 9   start_lng          float64       \n",
      " 10  end_lat            float64       \n",
      " 11  end_lng            float64       \n",
      " 12  usertype           object        \n",
      "dtypes: datetime64[ns](2), float64(4), object(7)\n",
      "memory usage: 351.3+ MB\n"
     ]
    }
   ],
   "source": [
    "df_2020.info()"
   ]
  },
  {
   "cell_type": "code",
   "execution_count": 27,
   "metadata": {},
   "outputs": [],
   "source": [
    "df_21a=pd.read_csv('file:///Users/Sana/Desktop/DVdata/2021/202101-divvy-tripdata.csv')"
   ]
  },
  {
   "cell_type": "code",
   "execution_count": 28,
   "metadata": {},
   "outputs": [],
   "source": [
    "df_21b=pd.read_csv('file:///Users/Sana/Desktop/DVdata/2021/202102-divvy-tripdata.csv')"
   ]
  },
  {
   "cell_type": "code",
   "execution_count": 29,
   "metadata": {},
   "outputs": [],
   "source": [
    "df_21c=pd.read_csv('file:///Users/Sana/Desktop/DVdata/2021/202103-divvy-tripdata.csv')"
   ]
  },
  {
   "cell_type": "code",
   "execution_count": 30,
   "metadata": {},
   "outputs": [],
   "source": [
    "df_21d=pd.read_csv('file:///Users/Sana/Desktop/DVdata/2021/202104-divvy-tripdata.csv')"
   ]
  },
  {
   "cell_type": "code",
   "execution_count": 31,
   "metadata": {},
   "outputs": [],
   "source": [
    "df_21e=pd.read_csv('file:///Users/Sana/Desktop/DVdata/2021/202105-divvy-tripdata.csv')"
   ]
  },
  {
   "cell_type": "code",
   "execution_count": 32,
   "metadata": {},
   "outputs": [],
   "source": [
    "df_21f=pd.read_csv('file:///Users/Sana/Desktop/DVdata/2021/202106-divvy-tripdata.csv')"
   ]
  },
  {
   "cell_type": "code",
   "execution_count": 33,
   "metadata": {},
   "outputs": [],
   "source": [
    "df_21g=pd.read_csv('file:///Users/Sana/Desktop/DVdata/2021/202107-divvy-tripdata.csv')"
   ]
  },
  {
   "cell_type": "code",
   "execution_count": 34,
   "metadata": {},
   "outputs": [],
   "source": [
    "df_21h=pd.read_csv('file:///Users/Sana/Desktop/DVdata/2021/202108-divvy-tripdata.csv')"
   ]
  },
  {
   "cell_type": "code",
   "execution_count": 35,
   "metadata": {},
   "outputs": [],
   "source": [
    "df_21i=pd.read_csv('file:///Users/Sana/Desktop/DVdata/2021/202109-divvy-tripdata.csv')"
   ]
  },
  {
   "cell_type": "code",
   "execution_count": 36,
   "metadata": {},
   "outputs": [],
   "source": [
    "df_21j=pd.read_csv('file:///Users/Sana/Desktop/DVdata/2021/202110-divvy-tripdata.csv')"
   ]
  },
  {
   "cell_type": "code",
   "execution_count": 37,
   "metadata": {},
   "outputs": [],
   "source": [
    "df_21k=pd.read_csv('file:///Users/Sana/Desktop/DVdata/2021/202111-divvy-tripdata.csv')"
   ]
  },
  {
   "cell_type": "code",
   "execution_count": 38,
   "metadata": {},
   "outputs": [],
   "source": [
    "df_21l=pd.read_csv('file:///Users/Sana/Desktop/DVdata/2021/202112-divvy-tripdata.csv')"
   ]
  },
  {
   "cell_type": "code",
   "execution_count": 39,
   "metadata": {},
   "outputs": [],
   "source": [
    "df_2021= pd.concat([df_21a,df_21b,df_21c,df_21d,df_21e,df_21f,df_21g,df_21h,df_21i,df_21j,df_21k,df_21l], axis=0,ignore_index=True)"
   ]
  },
  {
   "cell_type": "code",
   "execution_count": 40,
   "metadata": {},
   "outputs": [
    {
     "name": "stdout",
     "output_type": "stream",
     "text": [
      "<class 'pandas.core.frame.DataFrame'>\n",
      "RangeIndex: 5595063 entries, 0 to 5595062\n",
      "Data columns (total 13 columns):\n",
      " #   Column              Dtype  \n",
      "---  ------              -----  \n",
      " 0   ride_id             object \n",
      " 1   rideable_type       object \n",
      " 2   started_at          object \n",
      " 3   ended_at            object \n",
      " 4   start_station_name  object \n",
      " 5   start_station_id    object \n",
      " 6   end_station_name    object \n",
      " 7   end_station_id      object \n",
      " 8   start_lat           float64\n",
      " 9   start_lng           float64\n",
      " 10  end_lat             float64\n",
      " 11  end_lng             float64\n",
      " 12  member_casual       object \n",
      "dtypes: float64(4), object(9)\n",
      "memory usage: 554.9+ MB\n"
     ]
    }
   ],
   "source": [
    "df_2021.info()"
   ]
  },
  {
   "cell_type": "code",
   "execution_count": 41,
   "metadata": {},
   "outputs": [],
   "source": [
    "df_2021.rename(columns = {'end_station_name':'to_station_name','end_station_id':'to_station_id','member_casual': 'usertype'}, inplace = True)"
   ]
  },
  {
   "cell_type": "code",
   "execution_count": 42,
   "metadata": {},
   "outputs": [],
   "source": [
    "df_2021.rename(columns = {'ride_id':'trip_id','started_at':'start_time','ended_at': 'end_time','start_station_name':'from_station_name','start_station_id':'from_station_id'}, inplace = True)"
   ]
  },
  {
   "cell_type": "code",
   "execution_count": 95,
   "metadata": {},
   "outputs": [],
   "source": [
    "df_2021['end_time'] = pd.to_datetime(df_2021.end_time)\n",
    "df_2021['start_time'] = pd.to_datetime(df_2021.start_time)"
   ]
  },
  {
   "cell_type": "code",
   "execution_count": 43,
   "metadata": {},
   "outputs": [
    {
     "name": "stdout",
     "output_type": "stream",
     "text": [
      "<class 'pandas.core.frame.DataFrame'>\n",
      "RangeIndex: 5595063 entries, 0 to 5595062\n",
      "Data columns (total 13 columns):\n",
      " #   Column             Dtype  \n",
      "---  ------             -----  \n",
      " 0   trip_id            object \n",
      " 1   rideable_type      object \n",
      " 2   start_time         object \n",
      " 3   end_time           object \n",
      " 4   from_station_name  object \n",
      " 5   from_station_id    object \n",
      " 6   to_station_name    object \n",
      " 7   to_station_id      object \n",
      " 8   start_lat          float64\n",
      " 9   start_lng          float64\n",
      " 10  end_lat            float64\n",
      " 11  end_lng            float64\n",
      " 12  usertype           object \n",
      "dtypes: float64(4), object(9)\n",
      "memory usage: 554.9+ MB\n"
     ]
    }
   ],
   "source": [
    "df_2021.info()"
   ]
  },
  {
   "cell_type": "code",
   "execution_count": 98,
   "metadata": {},
   "outputs": [],
   "source": [
    "df_finalcombine = pd.concat([df_2018,df_2019,df_2020,df_2019], axis=0,ignore_index=True)"
   ]
  },
  {
   "cell_type": "code",
   "execution_count": 99,
   "metadata": {},
   "outputs": [
    {
     "name": "stdout",
     "output_type": "stream",
     "text": [
      "<class 'pandas.core.frame.DataFrame'>\n",
      "RangeIndex: 11608443 entries, 0 to 11608442\n",
      "Data columns (total 13 columns):\n",
      " #   Column             Dtype         \n",
      "---  ------             -----         \n",
      " 0   Table Names        object        \n",
      " 1   trip_id            int64         \n",
      " 2   start_time         datetime64[ns]\n",
      " 3   bikeid             int64         \n",
      " 4   end_time           datetime64[ns]\n",
      " 5   tripduration       object        \n",
      " 6   from_station_id    int64         \n",
      " 7   from_station_name  object        \n",
      " 8   to_station_id      int64         \n",
      " 9   to_station_name    object        \n",
      " 10  usertype           object        \n",
      " 11  gender             object        \n",
      " 12  birthyear          float64       \n",
      "dtypes: datetime64[ns](2), float64(1), int64(4), object(6)\n",
      "memory usage: 1.1+ GB\n"
     ]
    }
   ],
   "source": [
    "df_finalcombine.info()"
   ]
  },
  {
   "cell_type": "code",
   "execution_count": 100,
   "metadata": {},
   "outputs": [],
   "source": [
    "df_finalcombine.rename(columns = {'start_time':'starttime','end_time':'stoptime','start_lat': 'latitude_start','start_lng': 'longitude_start','end_lat': 'latitude_end','end_lng': 'longitude_end'}, inplace = True)"
   ]
  },
  {
   "cell_type": "code",
   "execution_count": 101,
   "metadata": {},
   "outputs": [
    {
     "name": "stdout",
     "output_type": "stream",
     "text": [
      "<class 'pandas.core.frame.DataFrame'>\n",
      "RangeIndex: 11608443 entries, 0 to 11608442\n",
      "Data columns (total 13 columns):\n",
      " #   Column             Dtype         \n",
      "---  ------             -----         \n",
      " 0   Table Names        object        \n",
      " 1   trip_id            int64         \n",
      " 2   starttime          datetime64[ns]\n",
      " 3   bikeid             int64         \n",
      " 4   stoptime           datetime64[ns]\n",
      " 5   tripduration       object        \n",
      " 6   from_station_id    int64         \n",
      " 7   from_station_name  object        \n",
      " 8   to_station_id      int64         \n",
      " 9   to_station_name    object        \n",
      " 10  usertype           object        \n",
      " 11  gender             object        \n",
      " 12  birthyear          float64       \n",
      "dtypes: datetime64[ns](2), float64(1), int64(4), object(6)\n",
      "memory usage: 1.1+ GB\n"
     ]
    }
   ],
   "source": [
    "df_finalcombine.info()"
   ]
  },
  {
   "cell_type": "code",
   "execution_count": 102,
   "metadata": {},
   "outputs": [],
   "source": [
    "df_alldata = pd.concat([df_processed1,df_finalcombine], axis=0,ignore_index=True)"
   ]
  },
  {
   "cell_type": "code",
   "execution_count": 103,
   "metadata": {},
   "outputs": [
    {
     "name": "stdout",
     "output_type": "stream",
     "text": [
      "<class 'pandas.core.frame.DataFrame'>\n",
      "RangeIndex: 21103678 entries, 0 to 21103677\n",
      "Data columns (total 24 columns):\n",
      " #   Column             Dtype  \n",
      "---  ------             -----  \n",
      " 0   trip_id            int64  \n",
      " 1   year               float64\n",
      " 2   month              float64\n",
      " 3   week               float64\n",
      " 4   day                float64\n",
      " 5   hour               float64\n",
      " 6   usertype           object \n",
      " 7   gender             object \n",
      " 8   starttime          object \n",
      " 9   stoptime           object \n",
      " 10  tripduration       object \n",
      " 11  temperature        float64\n",
      " 12  events             object \n",
      " 13  from_station_id    int64  \n",
      " 14  from_station_name  object \n",
      " 15  latitude_start     float64\n",
      " 16  longitude_start    float64\n",
      " 17  to_station_id      int64  \n",
      " 18  to_station_name    object \n",
      " 19  latitude_end       float64\n",
      " 20  longitude_end      float64\n",
      " 21  Table Names        object \n",
      " 22  bikeid             float64\n",
      " 23  birthyear          float64\n",
      "dtypes: float64(12), int64(3), object(9)\n",
      "memory usage: 3.8+ GB\n"
     ]
    }
   ],
   "source": [
    "df_alldata.info()"
   ]
  },
  {
   "cell_type": "code",
   "execution_count": 105,
   "metadata": {},
   "outputs": [],
   "source": [
    "df_alldata.to_csv('Divvy_dataf.csv', index=True)"
   ]
  },
  {
   "cell_type": "code",
   "execution_count": 106,
   "metadata": {},
   "outputs": [
    {
     "data": {
      "text/html": [
       "<div>\n",
       "<style scoped>\n",
       "    .dataframe tbody tr th:only-of-type {\n",
       "        vertical-align: middle;\n",
       "    }\n",
       "\n",
       "    .dataframe tbody tr th {\n",
       "        vertical-align: top;\n",
       "    }\n",
       "\n",
       "    .dataframe thead th {\n",
       "        text-align: right;\n",
       "    }\n",
       "</style>\n",
       "<table border=\"1\" class=\"dataframe\">\n",
       "  <thead>\n",
       "    <tr style=\"text-align: right;\">\n",
       "      <th></th>\n",
       "      <th>trip_id</th>\n",
       "      <th>rideable_type</th>\n",
       "      <th>start_time</th>\n",
       "      <th>end_time</th>\n",
       "      <th>from_station_name</th>\n",
       "      <th>from_station_id</th>\n",
       "      <th>to_station_name</th>\n",
       "      <th>to_station_id</th>\n",
       "      <th>start_lat</th>\n",
       "      <th>start_lng</th>\n",
       "      <th>end_lat</th>\n",
       "      <th>end_lng</th>\n",
       "      <th>usertype</th>\n",
       "    </tr>\n",
       "  </thead>\n",
       "  <tbody>\n",
       "    <tr>\n",
       "      <th>0</th>\n",
       "      <td>A847FADBBC638E45</td>\n",
       "      <td>docked_bike</td>\n",
       "      <td>2020-04-26 17:45:14</td>\n",
       "      <td>2020-04-26 18:12:03</td>\n",
       "      <td>Eckhart Park</td>\n",
       "      <td>86</td>\n",
       "      <td>Lincoln Ave &amp; Diversey Pkwy</td>\n",
       "      <td>152</td>\n",
       "      <td>41.8964</td>\n",
       "      <td>-87.6610</td>\n",
       "      <td>41.9322</td>\n",
       "      <td>-87.6586</td>\n",
       "      <td>member</td>\n",
       "    </tr>\n",
       "    <tr>\n",
       "      <th>1</th>\n",
       "      <td>5405B80E996FF60D</td>\n",
       "      <td>docked_bike</td>\n",
       "      <td>2020-04-17 17:08:54</td>\n",
       "      <td>2020-04-17 17:17:03</td>\n",
       "      <td>Drake Ave &amp; Fullerton Ave</td>\n",
       "      <td>503</td>\n",
       "      <td>Kosciuszko Park</td>\n",
       "      <td>499</td>\n",
       "      <td>41.9244</td>\n",
       "      <td>-87.7154</td>\n",
       "      <td>41.9306</td>\n",
       "      <td>-87.7238</td>\n",
       "      <td>member</td>\n",
       "    </tr>\n",
       "    <tr>\n",
       "      <th>2</th>\n",
       "      <td>5DD24A79A4E006F4</td>\n",
       "      <td>docked_bike</td>\n",
       "      <td>2020-04-01 17:54:13</td>\n",
       "      <td>2020-04-01 18:08:36</td>\n",
       "      <td>McClurg Ct &amp; Erie St</td>\n",
       "      <td>142</td>\n",
       "      <td>Indiana Ave &amp; Roosevelt Rd</td>\n",
       "      <td>255</td>\n",
       "      <td>41.8945</td>\n",
       "      <td>-87.6179</td>\n",
       "      <td>41.8679</td>\n",
       "      <td>-87.6230</td>\n",
       "      <td>member</td>\n",
       "    </tr>\n",
       "    <tr>\n",
       "      <th>3</th>\n",
       "      <td>2A59BBDF5CDBA725</td>\n",
       "      <td>docked_bike</td>\n",
       "      <td>2020-04-07 12:50:19</td>\n",
       "      <td>2020-04-07 13:02:31</td>\n",
       "      <td>California Ave &amp; Division St</td>\n",
       "      <td>216</td>\n",
       "      <td>Wood St &amp; Augusta Blvd</td>\n",
       "      <td>657</td>\n",
       "      <td>41.9030</td>\n",
       "      <td>-87.6975</td>\n",
       "      <td>41.8992</td>\n",
       "      <td>-87.6722</td>\n",
       "      <td>member</td>\n",
       "    </tr>\n",
       "    <tr>\n",
       "      <th>4</th>\n",
       "      <td>27AD306C119C6158</td>\n",
       "      <td>docked_bike</td>\n",
       "      <td>2020-04-18 10:22:59</td>\n",
       "      <td>2020-04-18 11:15:54</td>\n",
       "      <td>Rush St &amp; Hubbard St</td>\n",
       "      <td>125</td>\n",
       "      <td>Sheridan Rd &amp; Lawrence Ave</td>\n",
       "      <td>323</td>\n",
       "      <td>41.8902</td>\n",
       "      <td>-87.6262</td>\n",
       "      <td>41.9695</td>\n",
       "      <td>-87.6547</td>\n",
       "      <td>casual</td>\n",
       "    </tr>\n",
       "  </tbody>\n",
       "</table>\n",
       "</div>"
      ],
      "text/plain": [
       "            trip_id rideable_type          start_time            end_time  \\\n",
       "0  A847FADBBC638E45   docked_bike 2020-04-26 17:45:14 2020-04-26 18:12:03   \n",
       "1  5405B80E996FF60D   docked_bike 2020-04-17 17:08:54 2020-04-17 17:17:03   \n",
       "2  5DD24A79A4E006F4   docked_bike 2020-04-01 17:54:13 2020-04-01 18:08:36   \n",
       "3  2A59BBDF5CDBA725   docked_bike 2020-04-07 12:50:19 2020-04-07 13:02:31   \n",
       "4  27AD306C119C6158   docked_bike 2020-04-18 10:22:59 2020-04-18 11:15:54   \n",
       "\n",
       "              from_station_name from_station_id              to_station_name  \\\n",
       "0                  Eckhart Park              86  Lincoln Ave & Diversey Pkwy   \n",
       "1     Drake Ave & Fullerton Ave             503              Kosciuszko Park   \n",
       "2          McClurg Ct & Erie St             142   Indiana Ave & Roosevelt Rd   \n",
       "3  California Ave & Division St             216       Wood St & Augusta Blvd   \n",
       "4          Rush St & Hubbard St             125   Sheridan Rd & Lawrence Ave   \n",
       "\n",
       "  to_station_id  start_lat  start_lng  end_lat  end_lng usertype  \n",
       "0           152    41.8964   -87.6610  41.9322 -87.6586   member  \n",
       "1           499    41.9244   -87.7154  41.9306 -87.7238   member  \n",
       "2           255    41.8945   -87.6179  41.8679 -87.6230   member  \n",
       "3           657    41.9030   -87.6975  41.8992 -87.6722   member  \n",
       "4           323    41.8902   -87.6262  41.9695 -87.6547   casual  "
      ]
     },
     "execution_count": 106,
     "metadata": {},
     "output_type": "execute_result"
    }
   ],
   "source": [
    "df_2020.head()"
   ]
  },
  {
   "cell_type": "code",
   "execution_count": 107,
   "metadata": {},
   "outputs": [
    {
     "data": {
      "text/html": [
       "<div>\n",
       "<style scoped>\n",
       "    .dataframe tbody tr th:only-of-type {\n",
       "        vertical-align: middle;\n",
       "    }\n",
       "\n",
       "    .dataframe tbody tr th {\n",
       "        vertical-align: top;\n",
       "    }\n",
       "\n",
       "    .dataframe thead th {\n",
       "        text-align: right;\n",
       "    }\n",
       "</style>\n",
       "<table border=\"1\" class=\"dataframe\">\n",
       "  <thead>\n",
       "    <tr style=\"text-align: right;\">\n",
       "      <th></th>\n",
       "      <th>Table Names</th>\n",
       "      <th>trip_id</th>\n",
       "      <th>start_time</th>\n",
       "      <th>bikeid</th>\n",
       "      <th>end_time</th>\n",
       "      <th>tripduration</th>\n",
       "      <th>from_station_id</th>\n",
       "      <th>from_station_name</th>\n",
       "      <th>to_station_id</th>\n",
       "      <th>to_station_name</th>\n",
       "      <th>usertype</th>\n",
       "      <th>gender</th>\n",
       "      <th>birthyear</th>\n",
       "    </tr>\n",
       "  </thead>\n",
       "  <tbody>\n",
       "    <tr>\n",
       "      <th>0</th>\n",
       "      <td>Divvy_Trips_2018_Q1.csv</td>\n",
       "      <td>17618474</td>\n",
       "      <td>2018-01-23 08:28:40</td>\n",
       "      <td>217</td>\n",
       "      <td>2018-01-23 08:40:14</td>\n",
       "      <td>694</td>\n",
       "      <td>106</td>\n",
       "      <td>State St &amp; Pearson St</td>\n",
       "      <td>195</td>\n",
       "      <td>Columbus Dr &amp; Randolph St</td>\n",
       "      <td>Subscriber</td>\n",
       "      <td>Male</td>\n",
       "      <td>1989.0</td>\n",
       "    </tr>\n",
       "    <tr>\n",
       "      <th>1</th>\n",
       "      <td>Divvy_Trips_2018_Q1.csv</td>\n",
       "      <td>17618475</td>\n",
       "      <td>2018-01-23 08:28:40</td>\n",
       "      <td>3117</td>\n",
       "      <td>2018-01-23 08:37:13</td>\n",
       "      <td>513</td>\n",
       "      <td>73</td>\n",
       "      <td>Jefferson St &amp; Monroe St</td>\n",
       "      <td>43</td>\n",
       "      <td>Michigan Ave &amp; Washington St</td>\n",
       "      <td>Subscriber</td>\n",
       "      <td>Male</td>\n",
       "      <td>1981.0</td>\n",
       "    </tr>\n",
       "    <tr>\n",
       "      <th>2</th>\n",
       "      <td>Divvy_Trips_2018_Q1.csv</td>\n",
       "      <td>17618480</td>\n",
       "      <td>2018-01-23 08:29:01</td>\n",
       "      <td>6454</td>\n",
       "      <td>2018-01-23 08:33:20</td>\n",
       "      <td>259</td>\n",
       "      <td>247</td>\n",
       "      <td>Shore Dr &amp; 55th St</td>\n",
       "      <td>345</td>\n",
       "      <td>Lake Park Ave &amp; 56th St</td>\n",
       "      <td>Subscriber</td>\n",
       "      <td>Male</td>\n",
       "      <td>1951.0</td>\n",
       "    </tr>\n",
       "    <tr>\n",
       "      <th>3</th>\n",
       "      <td>Divvy_Trips_2018_Q1.csv</td>\n",
       "      <td>17618482</td>\n",
       "      <td>2018-01-23 08:29:07</td>\n",
       "      <td>5191</td>\n",
       "      <td>2018-01-23 08:36:49</td>\n",
       "      <td>462</td>\n",
       "      <td>53</td>\n",
       "      <td>Wells St &amp; Huron St</td>\n",
       "      <td>98</td>\n",
       "      <td>LaSalle St &amp; Washington St</td>\n",
       "      <td>Subscriber</td>\n",
       "      <td>Female</td>\n",
       "      <td>1989.0</td>\n",
       "    </tr>\n",
       "    <tr>\n",
       "      <th>4</th>\n",
       "      <td>Divvy_Trips_2018_Q1.csv</td>\n",
       "      <td>17618484</td>\n",
       "      <td>2018-01-23 08:29:20</td>\n",
       "      <td>6265</td>\n",
       "      <td>2018-01-23 08:43:40</td>\n",
       "      <td>860</td>\n",
       "      <td>175</td>\n",
       "      <td>Wells St &amp; Polk St</td>\n",
       "      <td>47</td>\n",
       "      <td>State St &amp; Kinzie St</td>\n",
       "      <td>Subscriber</td>\n",
       "      <td>Male</td>\n",
       "      <td>1977.0</td>\n",
       "    </tr>\n",
       "  </tbody>\n",
       "</table>\n",
       "</div>"
      ],
      "text/plain": [
       "               Table Names   trip_id          start_time  bikeid  \\\n",
       "0  Divvy_Trips_2018_Q1.csv  17618474 2018-01-23 08:28:40     217   \n",
       "1  Divvy_Trips_2018_Q1.csv  17618475 2018-01-23 08:28:40    3117   \n",
       "2  Divvy_Trips_2018_Q1.csv  17618480 2018-01-23 08:29:01    6454   \n",
       "3  Divvy_Trips_2018_Q1.csv  17618482 2018-01-23 08:29:07    5191   \n",
       "4  Divvy_Trips_2018_Q1.csv  17618484 2018-01-23 08:29:20    6265   \n",
       "\n",
       "             end_time tripduration  from_station_id         from_station_name  \\\n",
       "0 2018-01-23 08:40:14          694              106     State St & Pearson St   \n",
       "1 2018-01-23 08:37:13          513               73  Jefferson St & Monroe St   \n",
       "2 2018-01-23 08:33:20          259              247        Shore Dr & 55th St   \n",
       "3 2018-01-23 08:36:49          462               53       Wells St & Huron St   \n",
       "4 2018-01-23 08:43:40          860              175        Wells St & Polk St   \n",
       "\n",
       "   to_station_id               to_station_name    usertype  gender  birthyear  \n",
       "0            195     Columbus Dr & Randolph St  Subscriber    Male     1989.0  \n",
       "1             43  Michigan Ave & Washington St  Subscriber    Male     1981.0  \n",
       "2            345       Lake Park Ave & 56th St  Subscriber    Male     1951.0  \n",
       "3             98    LaSalle St & Washington St  Subscriber  Female     1989.0  \n",
       "4             47          State St & Kinzie St  Subscriber    Male     1977.0  "
      ]
     },
     "execution_count": 107,
     "metadata": {},
     "output_type": "execute_result"
    }
   ],
   "source": [
    "df_2018.head()"
   ]
  },
  {
   "cell_type": "code",
   "execution_count": 109,
   "metadata": {},
   "outputs": [
    {
     "data": {
      "text/html": [
       "<div>\n",
       "<style scoped>\n",
       "    .dataframe tbody tr th:only-of-type {\n",
       "        vertical-align: middle;\n",
       "    }\n",
       "\n",
       "    .dataframe tbody tr th {\n",
       "        vertical-align: top;\n",
       "    }\n",
       "\n",
       "    .dataframe thead th {\n",
       "        text-align: right;\n",
       "    }\n",
       "</style>\n",
       "<table border=\"1\" class=\"dataframe\">\n",
       "  <thead>\n",
       "    <tr style=\"text-align: right;\">\n",
       "      <th></th>\n",
       "      <th>trip_id</th>\n",
       "      <th>year</th>\n",
       "      <th>month</th>\n",
       "      <th>week</th>\n",
       "      <th>day</th>\n",
       "      <th>hour</th>\n",
       "      <th>usertype</th>\n",
       "      <th>gender</th>\n",
       "      <th>starttime</th>\n",
       "      <th>stoptime</th>\n",
       "      <th>...</th>\n",
       "      <th>from_station_name</th>\n",
       "      <th>latitude_start</th>\n",
       "      <th>longitude_start</th>\n",
       "      <th>to_station_id</th>\n",
       "      <th>to_station_name</th>\n",
       "      <th>latitude_end</th>\n",
       "      <th>longitude_end</th>\n",
       "      <th>Table Names</th>\n",
       "      <th>bikeid</th>\n",
       "      <th>birthyear</th>\n",
       "    </tr>\n",
       "  </thead>\n",
       "  <tbody>\n",
       "    <tr>\n",
       "      <th>21103673</th>\n",
       "      <td>25962900</td>\n",
       "      <td>NaN</td>\n",
       "      <td>NaN</td>\n",
       "      <td>NaN</td>\n",
       "      <td>NaN</td>\n",
       "      <td>NaN</td>\n",
       "      <td>Subscriber</td>\n",
       "      <td>Male</td>\n",
       "      <td>2019-12-31 23:56:13</td>\n",
       "      <td>2020-01-01 00:15:45</td>\n",
       "      <td>...</td>\n",
       "      <td>Green St &amp; Randolph St</td>\n",
       "      <td>NaN</td>\n",
       "      <td>NaN</td>\n",
       "      <td>225</td>\n",
       "      <td>Halsted St &amp; Dickens Ave</td>\n",
       "      <td>NaN</td>\n",
       "      <td>NaN</td>\n",
       "      <td>NaN</td>\n",
       "      <td>2196.0</td>\n",
       "      <td>1981.0</td>\n",
       "    </tr>\n",
       "    <tr>\n",
       "      <th>21103674</th>\n",
       "      <td>25962901</td>\n",
       "      <td>NaN</td>\n",
       "      <td>NaN</td>\n",
       "      <td>NaN</td>\n",
       "      <td>NaN</td>\n",
       "      <td>NaN</td>\n",
       "      <td>Subscriber</td>\n",
       "      <td>Male</td>\n",
       "      <td>2019-12-31 23:56:34</td>\n",
       "      <td>2020-01-01 00:22:08</td>\n",
       "      <td>...</td>\n",
       "      <td>Millennium Park</td>\n",
       "      <td>NaN</td>\n",
       "      <td>NaN</td>\n",
       "      <td>90</td>\n",
       "      <td>Millennium Park</td>\n",
       "      <td>NaN</td>\n",
       "      <td>NaN</td>\n",
       "      <td>NaN</td>\n",
       "      <td>4877.0</td>\n",
       "      <td>1992.0</td>\n",
       "    </tr>\n",
       "    <tr>\n",
       "      <th>21103675</th>\n",
       "      <td>25962902</td>\n",
       "      <td>NaN</td>\n",
       "      <td>NaN</td>\n",
       "      <td>NaN</td>\n",
       "      <td>NaN</td>\n",
       "      <td>NaN</td>\n",
       "      <td>Subscriber</td>\n",
       "      <td>Male</td>\n",
       "      <td>2019-12-31 23:57:05</td>\n",
       "      <td>2020-01-01 00:05:46</td>\n",
       "      <td>...</td>\n",
       "      <td>Michigan Ave &amp; 8th St</td>\n",
       "      <td>NaN</td>\n",
       "      <td>NaN</td>\n",
       "      <td>52</td>\n",
       "      <td>Michigan Ave &amp; Lake St</td>\n",
       "      <td>NaN</td>\n",
       "      <td>NaN</td>\n",
       "      <td>NaN</td>\n",
       "      <td>863.0</td>\n",
       "      <td>1967.0</td>\n",
       "    </tr>\n",
       "    <tr>\n",
       "      <th>21103676</th>\n",
       "      <td>25962903</td>\n",
       "      <td>NaN</td>\n",
       "      <td>NaN</td>\n",
       "      <td>NaN</td>\n",
       "      <td>NaN</td>\n",
       "      <td>NaN</td>\n",
       "      <td>Subscriber</td>\n",
       "      <td>Female</td>\n",
       "      <td>2019-12-31 23:57:11</td>\n",
       "      <td>2020-01-01 00:05:45</td>\n",
       "      <td>...</td>\n",
       "      <td>Michigan Ave &amp; 8th St</td>\n",
       "      <td>NaN</td>\n",
       "      <td>NaN</td>\n",
       "      <td>52</td>\n",
       "      <td>Michigan Ave &amp; Lake St</td>\n",
       "      <td>NaN</td>\n",
       "      <td>NaN</td>\n",
       "      <td>NaN</td>\n",
       "      <td>2637.0</td>\n",
       "      <td>1970.0</td>\n",
       "    </tr>\n",
       "    <tr>\n",
       "      <th>21103677</th>\n",
       "      <td>25962904</td>\n",
       "      <td>NaN</td>\n",
       "      <td>NaN</td>\n",
       "      <td>NaN</td>\n",
       "      <td>NaN</td>\n",
       "      <td>NaN</td>\n",
       "      <td>Subscriber</td>\n",
       "      <td>Male</td>\n",
       "      <td>2019-12-31 23:57:17</td>\n",
       "      <td>2019-12-31 23:59:18</td>\n",
       "      <td>...</td>\n",
       "      <td>Broadway &amp; Sheridan Rd</td>\n",
       "      <td>NaN</td>\n",
       "      <td>NaN</td>\n",
       "      <td>240</td>\n",
       "      <td>Sheridan Rd &amp; Irving Park Rd</td>\n",
       "      <td>NaN</td>\n",
       "      <td>NaN</td>\n",
       "      <td>NaN</td>\n",
       "      <td>5930.0</td>\n",
       "      <td>1982.0</td>\n",
       "    </tr>\n",
       "  </tbody>\n",
       "</table>\n",
       "<p>5 rows × 24 columns</p>\n",
       "</div>"
      ],
      "text/plain": [
       "           trip_id  year  month  week  day  hour    usertype  gender  \\\n",
       "21103673  25962900   NaN    NaN   NaN  NaN   NaN  Subscriber    Male   \n",
       "21103674  25962901   NaN    NaN   NaN  NaN   NaN  Subscriber    Male   \n",
       "21103675  25962902   NaN    NaN   NaN  NaN   NaN  Subscriber    Male   \n",
       "21103676  25962903   NaN    NaN   NaN  NaN   NaN  Subscriber  Female   \n",
       "21103677  25962904   NaN    NaN   NaN  NaN   NaN  Subscriber    Male   \n",
       "\n",
       "                    starttime             stoptime  ...  \\\n",
       "21103673  2019-12-31 23:56:13  2020-01-01 00:15:45  ...   \n",
       "21103674  2019-12-31 23:56:34  2020-01-01 00:22:08  ...   \n",
       "21103675  2019-12-31 23:57:05  2020-01-01 00:05:46  ...   \n",
       "21103676  2019-12-31 23:57:11  2020-01-01 00:05:45  ...   \n",
       "21103677  2019-12-31 23:57:17  2019-12-31 23:59:18  ...   \n",
       "\n",
       "               from_station_name  latitude_start longitude_start  \\\n",
       "21103673  Green St & Randolph St             NaN             NaN   \n",
       "21103674         Millennium Park             NaN             NaN   \n",
       "21103675   Michigan Ave & 8th St             NaN             NaN   \n",
       "21103676   Michigan Ave & 8th St             NaN             NaN   \n",
       "21103677  Broadway & Sheridan Rd             NaN             NaN   \n",
       "\n",
       "          to_station_id               to_station_name  latitude_end  \\\n",
       "21103673            225      Halsted St & Dickens Ave           NaN   \n",
       "21103674             90               Millennium Park           NaN   \n",
       "21103675             52        Michigan Ave & Lake St           NaN   \n",
       "21103676             52        Michigan Ave & Lake St           NaN   \n",
       "21103677            240  Sheridan Rd & Irving Park Rd           NaN   \n",
       "\n",
       "          longitude_end  Table Names  bikeid  birthyear  \n",
       "21103673            NaN          NaN  2196.0     1981.0  \n",
       "21103674            NaN          NaN  4877.0     1992.0  \n",
       "21103675            NaN          NaN   863.0     1967.0  \n",
       "21103676            NaN          NaN  2637.0     1970.0  \n",
       "21103677            NaN          NaN  5930.0     1982.0  \n",
       "\n",
       "[5 rows x 24 columns]"
      ]
     },
     "execution_count": 109,
     "metadata": {},
     "output_type": "execute_result"
    }
   ],
   "source": [
    "df_alldata.tail()"
   ]
  },
  {
   "cell_type": "code",
   "execution_count": 110,
   "metadata": {},
   "outputs": [
    {
     "data": {
      "text/html": [
       "<div>\n",
       "<style scoped>\n",
       "    .dataframe tbody tr th:only-of-type {\n",
       "        vertical-align: middle;\n",
       "    }\n",
       "\n",
       "    .dataframe tbody tr th {\n",
       "        vertical-align: top;\n",
       "    }\n",
       "\n",
       "    .dataframe thead th {\n",
       "        text-align: right;\n",
       "    }\n",
       "</style>\n",
       "<table border=\"1\" class=\"dataframe\">\n",
       "  <thead>\n",
       "    <tr style=\"text-align: right;\">\n",
       "      <th></th>\n",
       "      <th>Table Names</th>\n",
       "      <th>trip_id</th>\n",
       "      <th>starttime</th>\n",
       "      <th>bikeid</th>\n",
       "      <th>stoptime</th>\n",
       "      <th>tripduration</th>\n",
       "      <th>from_station_id</th>\n",
       "      <th>from_station_name</th>\n",
       "      <th>to_station_id</th>\n",
       "      <th>to_station_name</th>\n",
       "      <th>usertype</th>\n",
       "      <th>gender</th>\n",
       "      <th>birthyear</th>\n",
       "    </tr>\n",
       "  </thead>\n",
       "  <tbody>\n",
       "    <tr>\n",
       "      <th>11608438</th>\n",
       "      <td>NaN</td>\n",
       "      <td>25962900</td>\n",
       "      <td>2019-12-31 23:56:13</td>\n",
       "      <td>2196</td>\n",
       "      <td>2020-01-01 00:15:45</td>\n",
       "      <td>1,172.0</td>\n",
       "      <td>112</td>\n",
       "      <td>Green St &amp; Randolph St</td>\n",
       "      <td>225</td>\n",
       "      <td>Halsted St &amp; Dickens Ave</td>\n",
       "      <td>Subscriber</td>\n",
       "      <td>Male</td>\n",
       "      <td>1981.0</td>\n",
       "    </tr>\n",
       "    <tr>\n",
       "      <th>11608439</th>\n",
       "      <td>NaN</td>\n",
       "      <td>25962901</td>\n",
       "      <td>2019-12-31 23:56:34</td>\n",
       "      <td>4877</td>\n",
       "      <td>2020-01-01 00:22:08</td>\n",
       "      <td>1,533.0</td>\n",
       "      <td>90</td>\n",
       "      <td>Millennium Park</td>\n",
       "      <td>90</td>\n",
       "      <td>Millennium Park</td>\n",
       "      <td>Subscriber</td>\n",
       "      <td>Male</td>\n",
       "      <td>1992.0</td>\n",
       "    </tr>\n",
       "    <tr>\n",
       "      <th>11608440</th>\n",
       "      <td>NaN</td>\n",
       "      <td>25962902</td>\n",
       "      <td>2019-12-31 23:57:05</td>\n",
       "      <td>863</td>\n",
       "      <td>2020-01-01 00:05:46</td>\n",
       "      <td>520.0</td>\n",
       "      <td>623</td>\n",
       "      <td>Michigan Ave &amp; 8th St</td>\n",
       "      <td>52</td>\n",
       "      <td>Michigan Ave &amp; Lake St</td>\n",
       "      <td>Subscriber</td>\n",
       "      <td>Male</td>\n",
       "      <td>1967.0</td>\n",
       "    </tr>\n",
       "    <tr>\n",
       "      <th>11608441</th>\n",
       "      <td>NaN</td>\n",
       "      <td>25962903</td>\n",
       "      <td>2019-12-31 23:57:11</td>\n",
       "      <td>2637</td>\n",
       "      <td>2020-01-01 00:05:45</td>\n",
       "      <td>514.0</td>\n",
       "      <td>623</td>\n",
       "      <td>Michigan Ave &amp; 8th St</td>\n",
       "      <td>52</td>\n",
       "      <td>Michigan Ave &amp; Lake St</td>\n",
       "      <td>Subscriber</td>\n",
       "      <td>Female</td>\n",
       "      <td>1970.0</td>\n",
       "    </tr>\n",
       "    <tr>\n",
       "      <th>11608442</th>\n",
       "      <td>NaN</td>\n",
       "      <td>25962904</td>\n",
       "      <td>2019-12-31 23:57:17</td>\n",
       "      <td>5930</td>\n",
       "      <td>2019-12-31 23:59:18</td>\n",
       "      <td>120.0</td>\n",
       "      <td>256</td>\n",
       "      <td>Broadway &amp; Sheridan Rd</td>\n",
       "      <td>240</td>\n",
       "      <td>Sheridan Rd &amp; Irving Park Rd</td>\n",
       "      <td>Subscriber</td>\n",
       "      <td>Male</td>\n",
       "      <td>1982.0</td>\n",
       "    </tr>\n",
       "  </tbody>\n",
       "</table>\n",
       "</div>"
      ],
      "text/plain": [
       "         Table Names   trip_id           starttime  bikeid  \\\n",
       "11608438         NaN  25962900 2019-12-31 23:56:13    2196   \n",
       "11608439         NaN  25962901 2019-12-31 23:56:34    4877   \n",
       "11608440         NaN  25962902 2019-12-31 23:57:05     863   \n",
       "11608441         NaN  25962903 2019-12-31 23:57:11    2637   \n",
       "11608442         NaN  25962904 2019-12-31 23:57:17    5930   \n",
       "\n",
       "                    stoptime tripduration  from_station_id  \\\n",
       "11608438 2020-01-01 00:15:45      1,172.0              112   \n",
       "11608439 2020-01-01 00:22:08      1,533.0               90   \n",
       "11608440 2020-01-01 00:05:46        520.0              623   \n",
       "11608441 2020-01-01 00:05:45        514.0              623   \n",
       "11608442 2019-12-31 23:59:18        120.0              256   \n",
       "\n",
       "               from_station_name  to_station_id               to_station_name  \\\n",
       "11608438  Green St & Randolph St            225      Halsted St & Dickens Ave   \n",
       "11608439         Millennium Park             90               Millennium Park   \n",
       "11608440   Michigan Ave & 8th St             52        Michigan Ave & Lake St   \n",
       "11608441   Michigan Ave & 8th St             52        Michigan Ave & Lake St   \n",
       "11608442  Broadway & Sheridan Rd            240  Sheridan Rd & Irving Park Rd   \n",
       "\n",
       "            usertype  gender  birthyear  \n",
       "11608438  Subscriber    Male     1981.0  \n",
       "11608439  Subscriber    Male     1992.0  \n",
       "11608440  Subscriber    Male     1967.0  \n",
       "11608441  Subscriber  Female     1970.0  \n",
       "11608442  Subscriber    Male     1982.0  "
      ]
     },
     "execution_count": 110,
     "metadata": {},
     "output_type": "execute_result"
    }
   ],
   "source": [
    "df_finalcombine.tail()"
   ]
  },
  {
   "cell_type": "code",
   "execution_count": 112,
   "metadata": {},
   "outputs": [],
   "source": [
    "year=df_finalcombine['starttime'].dt.year"
   ]
  },
  {
   "cell_type": "raw",
   "metadata": {},
   "source": []
  },
  {
   "cell_type": "code",
   "execution_count": 113,
   "metadata": {},
   "outputs": [
    {
     "data": {
      "text/plain": [
       "0           2018\n",
       "1           2018\n",
       "2           2018\n",
       "3           2018\n",
       "4           2018\n",
       "            ... \n",
       "11608438    2019\n",
       "11608439    2019\n",
       "11608440    2019\n",
       "11608441    2019\n",
       "11608442    2019\n",
       "Name: starttime, Length: 11608443, dtype: int64"
      ]
     },
     "execution_count": 113,
     "metadata": {},
     "output_type": "execute_result"
    }
   ],
   "source": [
    "year"
   ]
  },
  {
   "cell_type": "code",
   "execution_count": 44,
   "metadata": {},
   "outputs": [],
   "source": [
    "df_final = pd.concat([df_2018,df_2019,df_2020,df_2021], axis=0,ignore_index=True)"
   ]
  },
  {
   "cell_type": "code",
   "execution_count": 45,
   "metadata": {},
   "outputs": [],
   "source": [
    "df_final.rename(columns = {'start_time':'starttime','end_time':'stoptime','start_lat': 'latitude_start','start_lng': 'longitude_start','end_lat': 'latitude_end','end_lng': 'longitude_end'}, inplace = True)"
   ]
  },
  {
   "cell_type": "code",
   "execution_count": 46,
   "metadata": {},
   "outputs": [
    {
     "name": "stdout",
     "output_type": "stream",
     "text": [
      "<class 'pandas.core.frame.DataFrame'>\n",
      "RangeIndex: 15142781 entries, 0 to 15142780\n",
      "Data columns (total 18 columns):\n",
      " #   Column             Dtype  \n",
      "---  ------             -----  \n",
      " 0   Table Names        object \n",
      " 1   trip_id            object \n",
      " 2   starttime          object \n",
      " 3   bikeid             float64\n",
      " 4   stoptime           object \n",
      " 5   tripduration       object \n",
      " 6   from_station_id    object \n",
      " 7   from_station_name  object \n",
      " 8   to_station_id      object \n",
      " 9   to_station_name    object \n",
      " 10  usertype           object \n",
      " 11  gender             object \n",
      " 12  birthyear          float64\n",
      " 13  rideable_type      object \n",
      " 14  latitude_start     float64\n",
      " 15  longitude_start    float64\n",
      " 16  latitude_end       float64\n",
      " 17  longitude_end      float64\n",
      "dtypes: float64(6), object(12)\n",
      "memory usage: 2.0+ GB\n"
     ]
    }
   ],
   "source": [
    "df_final.info()"
   ]
  },
  {
   "cell_type": "code",
   "execution_count": 117,
   "metadata": {},
   "outputs": [],
   "source": [
    "df = pd.concat([df_processed1,df_final], axis=0,ignore_index=True)"
   ]
  },
  {
   "cell_type": "code",
   "execution_count": 118,
   "metadata": {},
   "outputs": [
    {
     "name": "stdout",
     "output_type": "stream",
     "text": [
      "<class 'pandas.core.frame.DataFrame'>\n",
      "RangeIndex: 24638016 entries, 0 to 24638015\n",
      "Data columns (total 25 columns):\n",
      " #   Column             Dtype  \n",
      "---  ------             -----  \n",
      " 0   trip_id            object \n",
      " 1   year               float64\n",
      " 2   month              float64\n",
      " 3   week               float64\n",
      " 4   day                float64\n",
      " 5   hour               float64\n",
      " 6   usertype           object \n",
      " 7   gender             object \n",
      " 8   starttime          object \n",
      " 9   stoptime           object \n",
      " 10  tripduration       object \n",
      " 11  temperature        float64\n",
      " 12  events             object \n",
      " 13  from_station_id    object \n",
      " 14  from_station_name  object \n",
      " 15  latitude_start     float64\n",
      " 16  longitude_start    float64\n",
      " 17  to_station_id      object \n",
      " 18  to_station_name    object \n",
      " 19  latitude_end       float64\n",
      " 20  longitude_end      float64\n",
      " 21  Table Names        object \n",
      " 22  bikeid             float64\n",
      " 23  birthyear          float64\n",
      " 24  rideable_type      object \n",
      "dtypes: float64(12), object(13)\n",
      "memory usage: 4.6+ GB\n"
     ]
    }
   ],
   "source": [
    "df.info()"
   ]
  },
  {
   "cell_type": "code",
   "execution_count": null,
   "metadata": {},
   "outputs": [],
   "source": [
    "df_columndrop=df.drop(columns=['Table Names'])\n",
    "\n"
   ]
  },
  {
   "cell_type": "code",
   "execution_count": 1,
   "metadata": {},
   "outputs": [
    {
     "ename": "NameError",
     "evalue": "name 'df' is not defined",
     "output_type": "error",
     "traceback": [
      "\u001b[0;31m---------------------------------------------------------------------------\u001b[0m",
      "\u001b[0;31mNameError\u001b[0m                                 Traceback (most recent call last)",
      "\u001b[0;32m<ipython-input-1-a74c58233b9e>\u001b[0m in \u001b[0;36m<module>\u001b[0;34m\u001b[0m\n\u001b[0;32m----> 1\u001b[0;31m \u001b[0mdf\u001b[0m\u001b[0;34m.\u001b[0m\u001b[0minfo\u001b[0m\u001b[0;34m(\u001b[0m\u001b[0;34m)\u001b[0m\u001b[0;34m\u001b[0m\u001b[0;34m\u001b[0m\u001b[0m\n\u001b[0m",
      "\u001b[0;31mNameError\u001b[0m: name 'df' is not defined"
     ]
    }
   ],
   "source": []
  },
  {
   "cell_type": "code",
   "execution_count": 50,
   "metadata": {},
   "outputs": [
    {
     "name": "stdout",
     "output_type": "stream",
     "text": [
      "<class 'pandas.core.frame.DataFrame'>\n",
      "RangeIndex: 9495235 entries, 0 to 9495234\n",
      "Data columns (total 21 columns):\n",
      " #   Column             Dtype  \n",
      "---  ------             -----  \n",
      " 0   trip_id            int64  \n",
      " 1   year               int64  \n",
      " 2   month              int64  \n",
      " 3   week               int64  \n",
      " 4   day                int64  \n",
      " 5   hour               int64  \n",
      " 6   usertype           object \n",
      " 7   gender             object \n",
      " 8   starttime          object \n",
      " 9   stoptime           object \n",
      " 10  tripduration       float64\n",
      " 11  temperature        float64\n",
      " 12  events             object \n",
      " 13  from_station_id    int64  \n",
      " 14  from_station_name  object \n",
      " 15  latitude_start     float64\n",
      " 16  longitude_start    float64\n",
      " 17  to_station_id      int64  \n",
      " 18  to_station_name    object \n",
      " 19  latitude_end       float64\n",
      " 20  longitude_end      float64\n",
      "dtypes: float64(6), int64(8), object(7)\n",
      "memory usage: 1.5+ GB\n"
     ]
    }
   ],
   "source": [
    "df_processed1.info()"
   ]
  },
  {
   "cell_type": "code",
   "execution_count": 51,
   "metadata": {},
   "outputs": [
    {
     "name": "stdout",
     "output_type": "stream",
     "text": [
      "<class 'pandas.core.frame.DataFrame'>\n",
      "RangeIndex: 15142781 entries, 0 to 15142780\n",
      "Data columns (total 18 columns):\n",
      " #   Column             Dtype  \n",
      "---  ------             -----  \n",
      " 0   Table Names        object \n",
      " 1   trip_id            object \n",
      " 2   starttime          object \n",
      " 3   bikeid             float64\n",
      " 4   stoptime           object \n",
      " 5   tripduration       object \n",
      " 6   from_station_id    object \n",
      " 7   from_station_name  object \n",
      " 8   to_station_id      object \n",
      " 9   to_station_name    object \n",
      " 10  usertype           object \n",
      " 11  gender             object \n",
      " 12  birthyear          float64\n",
      " 13  rideable_type      object \n",
      " 14  latitude_start     float64\n",
      " 15  longitude_start    float64\n",
      " 16  latitude_end       float64\n",
      " 17  longitude_end      float64\n",
      "dtypes: float64(6), object(12)\n",
      "memory usage: 2.0+ GB\n"
     ]
    }
   ],
   "source": [
    "df_final .info()"
   ]
  },
  {
   "cell_type": "code",
   "execution_count": 52,
   "metadata": {},
   "outputs": [],
   "source": [
    "df_final1=df_final.drop(columns=['Table Names'])"
   ]
  },
  {
   "cell_type": "code",
   "execution_count": 53,
   "metadata": {},
   "outputs": [
    {
     "name": "stdout",
     "output_type": "stream",
     "text": [
      "<class 'pandas.core.frame.DataFrame'>\n",
      "RangeIndex: 15142781 entries, 0 to 15142780\n",
      "Data columns (total 17 columns):\n",
      " #   Column             Dtype  \n",
      "---  ------             -----  \n",
      " 0   trip_id            object \n",
      " 1   starttime          object \n",
      " 2   bikeid             float64\n",
      " 3   stoptime           object \n",
      " 4   tripduration       object \n",
      " 5   from_station_id    object \n",
      " 6   from_station_name  object \n",
      " 7   to_station_id      object \n",
      " 8   to_station_name    object \n",
      " 9   usertype           object \n",
      " 10  gender             object \n",
      " 11  birthyear          float64\n",
      " 12  rideable_type      object \n",
      " 13  latitude_start     float64\n",
      " 14  longitude_start    float64\n",
      " 15  latitude_end       float64\n",
      " 16  longitude_end      float64\n",
      "dtypes: float64(6), object(11)\n",
      "memory usage: 1.9+ GB\n"
     ]
    }
   ],
   "source": [
    "df_final1.info()"
   ]
  },
  {
   "cell_type": "code",
   "execution_count": 54,
   "metadata": {},
   "outputs": [],
   "source": [
    "df = pd.concat([df_processed1,df_final1], axis=0,ignore_index=True)"
   ]
  },
  {
   "cell_type": "code",
   "execution_count": 55,
   "metadata": {},
   "outputs": [
    {
     "name": "stdout",
     "output_type": "stream",
     "text": [
      "<class 'pandas.core.frame.DataFrame'>\n",
      "RangeIndex: 24638016 entries, 0 to 24638015\n",
      "Data columns (total 24 columns):\n",
      " #   Column             Dtype  \n",
      "---  ------             -----  \n",
      " 0   trip_id            object \n",
      " 1   year               float64\n",
      " 2   month              float64\n",
      " 3   week               float64\n",
      " 4   day                float64\n",
      " 5   hour               float64\n",
      " 6   usertype           object \n",
      " 7   gender             object \n",
      " 8   starttime          object \n",
      " 9   stoptime           object \n",
      " 10  tripduration       object \n",
      " 11  temperature        float64\n",
      " 12  events             object \n",
      " 13  from_station_id    object \n",
      " 14  from_station_name  object \n",
      " 15  latitude_start     float64\n",
      " 16  longitude_start    float64\n",
      " 17  to_station_id      object \n",
      " 18  to_station_name    object \n",
      " 19  latitude_end       float64\n",
      " 20  longitude_end      float64\n",
      " 21  bikeid             float64\n",
      " 22  birthyear          float64\n",
      " 23  rideable_type      object \n",
      "dtypes: float64(12), object(12)\n",
      "memory usage: 4.4+ GB\n"
     ]
    }
   ],
   "source": [
    "df.info()"
   ]
  },
  {
   "cell_type": "code",
   "execution_count": 56,
   "metadata": {},
   "outputs": [],
   "source": [
    "df.to_csv('ridesharedata.csv', index=True)"
   ]
  },
  {
   "cell_type": "code",
   "execution_count": 57,
   "metadata": {},
   "outputs": [
    {
     "name": "stdout",
     "output_type": "stream",
     "text": [
      "<class 'pandas.core.frame.DataFrame'>\n",
      "RangeIndex: 2801204 entries, 0 to 2801203\n",
      "Data columns (total 13 columns):\n",
      " #   Column             Dtype  \n",
      "---  ------             -----  \n",
      " 0   Table Names        object \n",
      " 1   trip_id            int64  \n",
      " 2   start_time         object \n",
      " 3   end_time           object \n",
      " 4   bikeid             int64  \n",
      " 5   tripduration       object \n",
      " 6   from_station_id    int64  \n",
      " 7   from_station_name  object \n",
      " 8   to_station_id      int64  \n",
      " 9   to_station_name    object \n",
      " 10  usertype           object \n",
      " 11  gender             object \n",
      " 12  birthyear          float64\n",
      "dtypes: float64(1), int64(4), object(8)\n",
      "memory usage: 277.8+ MB\n"
     ]
    }
   ],
   "source": [
    "df_2019.info()"
   ]
  },
  {
   "cell_type": "code",
   "execution_count": 58,
   "metadata": {},
   "outputs": [],
   "source": [
    "df_clean=df.dropna(subset=['from_station_id', 'from_station_name'], how='all')"
   ]
  },
  {
   "cell_type": "code",
   "execution_count": 61,
   "metadata": {},
   "outputs": [
    {
     "name": "stdout",
     "output_type": "stream",
     "text": [
      "<class 'pandas.core.frame.DataFrame'>\n",
      "Int64Index: 23852554 entries, 0 to 24638015\n",
      "Data columns (total 24 columns):\n",
      " #   Column             Dtype  \n",
      "---  ------             -----  \n",
      " 0   trip_id            object \n",
      " 1   year               float64\n",
      " 2   month              float64\n",
      " 3   week               float64\n",
      " 4   day                float64\n",
      " 5   hour               float64\n",
      " 6   usertype           object \n",
      " 7   gender             object \n",
      " 8   starttime          object \n",
      " 9   stoptime           object \n",
      " 10  tripduration       object \n",
      " 11  temperature        float64\n",
      " 12  events             object \n",
      " 13  from_station_id    object \n",
      " 14  from_station_name  object \n",
      " 15  latitude_start     float64\n",
      " 16  longitude_start    float64\n",
      " 17  to_station_id      object \n",
      " 18  to_station_name    object \n",
      " 19  latitude_end       float64\n",
      " 20  longitude_end      float64\n",
      " 21  bikeid             float64\n",
      " 22  birthyear          float64\n",
      " 23  rideable_type      object \n",
      "dtypes: float64(12), object(12)\n",
      "memory usage: 4.4+ GB\n"
     ]
    }
   ],
   "source": [
    "df_clean.info()"
   ]
  },
  {
   "cell_type": "code",
   "execution_count": 63,
   "metadata": {},
   "outputs": [],
   "source": [
    "df_clean.to_csv('ridesharedataclean.csv', index=True)"
   ]
  },
  {
   "cell_type": "code",
   "execution_count": 64,
   "metadata": {},
   "outputs": [
    {
     "data": {
      "text/plain": [
       "trip_id                     0\n",
       "year                 14357319\n",
       "month                14357319\n",
       "week                 14357319\n",
       "day                  14357319\n",
       "hour                 14357319\n",
       "usertype                    0\n",
       "gender                9342661\n",
       "starttime                   0\n",
       "stoptime                    0\n",
       "tripduration          8351284\n",
       "temperature          14357319\n",
       "events               14357319\n",
       "from_station_id           626\n",
       "from_station_name           3\n",
       "latitude_start        6006035\n",
       "longitude_start       6006035\n",
       "to_station_id          373132\n",
       "to_station_name        372728\n",
       "latitude_end          6015061\n",
       "longitude_end         6015061\n",
       "bikeid               17846519\n",
       "birthyear            18814594\n",
       "rideable_type        15501270\n",
       "dtype: int64"
      ]
     },
     "execution_count": 64,
     "metadata": {},
     "output_type": "execute_result"
    }
   ],
   "source": [
    "df_clean.isna().sum()"
   ]
  },
  {
   "cell_type": "code",
   "execution_count": 65,
   "metadata": {},
   "outputs": [
    {
     "name": "stdout",
     "output_type": "stream",
     "text": [
      "<class 'pandas.core.frame.DataFrame'>\n",
      "RangeIndex: 2801204 entries, 0 to 2801203\n",
      "Data columns (total 13 columns):\n",
      " #   Column             Dtype  \n",
      "---  ------             -----  \n",
      " 0   Table Names        object \n",
      " 1   trip_id            int64  \n",
      " 2   start_time         object \n",
      " 3   end_time           object \n",
      " 4   bikeid             int64  \n",
      " 5   tripduration       object \n",
      " 6   from_station_id    int64  \n",
      " 7   from_station_name  object \n",
      " 8   to_station_id      int64  \n",
      " 9   to_station_name    object \n",
      " 10  usertype           object \n",
      " 11  gender             object \n",
      " 12  birthyear          float64\n",
      "dtypes: float64(1), int64(4), object(8)\n",
      "memory usage: 277.8+ MB\n"
     ]
    }
   ],
   "source": [
    "df_2019.info()"
   ]
  },
  {
   "cell_type": "code",
   "execution_count": 2,
   "metadata": {},
   "outputs": [
    {
     "name": "stderr",
     "output_type": "stream",
     "text": [
      "/Users/Sana/opt/anaconda3/lib/python3.8/site-packages/IPython/core/interactiveshell.py:3146: DtypeWarning: Columns (1,8,11,13,14,18,24) have mixed types.Specify dtype option on import or set low_memory=False.\n",
      "  has_raised = await self.run_ast_nodes(code_ast.body, cell_name,\n"
     ]
    }
   ],
   "source": [
    "import pandas as pd\n",
    "df1=pd.read_csv('file:///Users/Sana/Desktop/DVProject/Ridesharedataclean.csv')"
   ]
  },
  {
   "cell_type": "code",
   "execution_count": 3,
   "metadata": {},
   "outputs": [
    {
     "name": "stdout",
     "output_type": "stream",
     "text": [
      "<class 'pandas.core.frame.DataFrame'>\n",
      "RangeIndex: 23852554 entries, 0 to 23852553\n",
      "Data columns (total 25 columns):\n",
      " #   Column             Dtype  \n",
      "---  ------             -----  \n",
      " 0   Unnamed: 0         int64  \n",
      " 1   trip_id            object \n",
      " 2   year               float64\n",
      " 3   month              float64\n",
      " 4   week               float64\n",
      " 5   day                float64\n",
      " 6   hour               float64\n",
      " 7   usertype           object \n",
      " 8   gender             object \n",
      " 9   starttime          object \n",
      " 10  stoptime           object \n",
      " 11  tripduration       object \n",
      " 12  temperature        float64\n",
      " 13  events             object \n",
      " 14  from_station_id    object \n",
      " 15  from_station_name  object \n",
      " 16  latitude_start     float64\n",
      " 17  longitude_start    float64\n",
      " 18  to_station_id      object \n",
      " 19  to_station_name    object \n",
      " 20  latitude_end       float64\n",
      " 21  longitude_end      float64\n",
      " 22  bikeid             float64\n",
      " 23  birthyear          float64\n",
      " 24  rideable_type      object \n",
      "dtypes: float64(12), int64(1), object(12)\n",
      "memory usage: 4.4+ GB\n"
     ]
    }
   ],
   "source": [
    "df1.info()"
   ]
  },
  {
   "cell_type": "code",
   "execution_count": 5,
   "metadata": {},
   "outputs": [],
   "source": [
    "df1['starttime'] = pd.to_datetime(df1.starttime)\n",
    "df1['stoptime'] = pd.to_datetime(df1.stoptime)"
   ]
  },
  {
   "cell_type": "code",
   "execution_count": 6,
   "metadata": {},
   "outputs": [
    {
     "name": "stdout",
     "output_type": "stream",
     "text": [
      "<class 'pandas.core.frame.DataFrame'>\n",
      "RangeIndex: 23852554 entries, 0 to 23852553\n",
      "Data columns (total 25 columns):\n",
      " #   Column             Dtype         \n",
      "---  ------             -----         \n",
      " 0   Unnamed: 0         int64         \n",
      " 1   trip_id            object        \n",
      " 2   year               float64       \n",
      " 3   month              float64       \n",
      " 4   week               float64       \n",
      " 5   day                float64       \n",
      " 6   hour               float64       \n",
      " 7   usertype           object        \n",
      " 8   gender             object        \n",
      " 9   starttime          datetime64[ns]\n",
      " 10  stoptime           datetime64[ns]\n",
      " 11  tripduration       object        \n",
      " 12  temperature        float64       \n",
      " 13  events             object        \n",
      " 14  from_station_id    object        \n",
      " 15  from_station_name  object        \n",
      " 16  latitude_start     float64       \n",
      " 17  longitude_start    float64       \n",
      " 18  to_station_id      object        \n",
      " 19  to_station_name    object        \n",
      " 20  latitude_end       float64       \n",
      " 21  longitude_end      float64       \n",
      " 22  bikeid             float64       \n",
      " 23  birthyear          float64       \n",
      " 24  rideable_type      object        \n",
      "dtypes: datetime64[ns](2), float64(12), int64(1), object(10)\n",
      "memory usage: 4.4+ GB\n"
     ]
    }
   ],
   "source": [
    "df1.info()"
   ]
  },
  {
   "cell_type": "code",
   "execution_count": 8,
   "metadata": {},
   "outputs": [],
   "source": [
    "df2=df1.drop(columns=['year','month','week','day','hour'])"
   ]
  },
  {
   "cell_type": "code",
   "execution_count": 9,
   "metadata": {},
   "outputs": [
    {
     "name": "stdout",
     "output_type": "stream",
     "text": [
      "<class 'pandas.core.frame.DataFrame'>\n",
      "RangeIndex: 23852554 entries, 0 to 23852553\n",
      "Data columns (total 20 columns):\n",
      " #   Column             Dtype         \n",
      "---  ------             -----         \n",
      " 0   Unnamed: 0         int64         \n",
      " 1   trip_id            object        \n",
      " 2   usertype           object        \n",
      " 3   gender             object        \n",
      " 4   starttime          datetime64[ns]\n",
      " 5   stoptime           datetime64[ns]\n",
      " 6   tripduration       object        \n",
      " 7   temperature        float64       \n",
      " 8   events             object        \n",
      " 9   from_station_id    object        \n",
      " 10  from_station_name  object        \n",
      " 11  latitude_start     float64       \n",
      " 12  longitude_start    float64       \n",
      " 13  to_station_id      object        \n",
      " 14  to_station_name    object        \n",
      " 15  latitude_end       float64       \n",
      " 16  longitude_end      float64       \n",
      " 17  bikeid             float64       \n",
      " 18  birthyear          float64       \n",
      " 19  rideable_type      object        \n",
      "dtypes: datetime64[ns](2), float64(7), int64(1), object(10)\n",
      "memory usage: 3.6+ GB\n"
     ]
    }
   ],
   "source": [
    "df2.info()"
   ]
  },
  {
   "cell_type": "code",
   "execution_count": 10,
   "metadata": {},
   "outputs": [],
   "source": [
    "data_2019= df1[df1.starttime.dt.year.eq(2019)]"
   ]
  },
  {
   "cell_type": "code",
   "execution_count": 11,
   "metadata": {},
   "outputs": [
    {
     "name": "stdout",
     "output_type": "stream",
     "text": [
      "<class 'pandas.core.frame.DataFrame'>\n",
      "Int64Index: 2801204 entries, 12700066 to 15501269\n",
      "Data columns (total 25 columns):\n",
      " #   Column             Dtype         \n",
      "---  ------             -----         \n",
      " 0   Unnamed: 0         int64         \n",
      " 1   trip_id            object        \n",
      " 2   year               float64       \n",
      " 3   month              float64       \n",
      " 4   week               float64       \n",
      " 5   day                float64       \n",
      " 6   hour               float64       \n",
      " 7   usertype           object        \n",
      " 8   gender             object        \n",
      " 9   starttime          datetime64[ns]\n",
      " 10  stoptime           datetime64[ns]\n",
      " 11  tripduration       object        \n",
      " 12  temperature        float64       \n",
      " 13  events             object        \n",
      " 14  from_station_id    object        \n",
      " 15  from_station_name  object        \n",
      " 16  latitude_start     float64       \n",
      " 17  longitude_start    float64       \n",
      " 18  to_station_id      object        \n",
      " 19  to_station_name    object        \n",
      " 20  latitude_end       float64       \n",
      " 21  longitude_end      float64       \n",
      " 22  bikeid             float64       \n",
      " 23  birthyear          float64       \n",
      " 24  rideable_type      object        \n",
      "dtypes: datetime64[ns](2), float64(12), int64(1), object(10)\n",
      "memory usage: 555.7+ MB\n"
     ]
    }
   ],
   "source": [
    "data_2019.info()"
   ]
  },
  {
   "cell_type": "code",
   "execution_count": 12,
   "metadata": {},
   "outputs": [
    {
     "data": {
      "text/plain": [
       "Unnamed: 0                 0\n",
       "trip_id                    0\n",
       "year                 2801204\n",
       "month                2801204\n",
       "week                 2801204\n",
       "day                  2801204\n",
       "hour                 2801204\n",
       "usertype                   0\n",
       "gender                443763\n",
       "starttime                  0\n",
       "stoptime                   0\n",
       "tripduration               0\n",
       "temperature          2801204\n",
       "events               2801204\n",
       "from_station_id            0\n",
       "from_station_name          0\n",
       "latitude_start       2801204\n",
       "longitude_start      2801204\n",
       "to_station_id              0\n",
       "to_station_name            0\n",
       "latitude_end         2801204\n",
       "longitude_end        2801204\n",
       "bikeid                     0\n",
       "birthyear             427539\n",
       "rideable_type        2801204\n",
       "dtype: int64"
      ]
     },
     "execution_count": 12,
     "metadata": {},
     "output_type": "execute_result"
    }
   ],
   "source": [
    "data_2019.isna().sum()"
   ]
  },
  {
   "cell_type": "code",
   "execution_count": null,
   "metadata": {},
   "outputs": [],
   "source": []
  }
 ],
 "metadata": {
  "kernelspec": {
   "display_name": "Python 3",
   "language": "python",
   "name": "python3"
  },
  "language_info": {
   "codemirror_mode": {
    "name": "ipython",
    "version": 3
   },
   "file_extension": ".py",
   "mimetype": "text/x-python",
   "name": "python",
   "nbconvert_exporter": "python",
   "pygments_lexer": "ipython3",
   "version": "3.8.5"
  }
 },
 "nbformat": 4,
 "nbformat_minor": 4
}
